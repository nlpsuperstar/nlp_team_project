{
 "cells": [
  {
   "cell_type": "code",
   "execution_count": 1,
   "id": "4d1afde1",
   "metadata": {},
   "outputs": [],
   "source": [
    "import requests\n",
    "from bs4 import BeautifulSoup \n",
    "import pandas as pd\n",
    "import matplotlib.pyplot as plt\n",
    "import numpy as np\n",
    "import re\n",
    "from time import strftime\n",
    "from time import sleep\n",
    "import os\n",
    "import json\n",
    "from typing import Dict, List, Optional, Union, cast\n",
    "import acquire\n",
    "from prepare import *\n",
    "import json\n",
    "\n",
    "from env import github_username, github_token"
   ]
  },
  {
   "cell_type": "markdown",
   "id": "d36a9427",
   "metadata": {},
   "source": [
    "# Acquire"
   ]
  },
  {
   "cell_type": "code",
   "execution_count": 2,
   "id": "e15365dc",
   "metadata": {},
   "outputs": [],
   "source": [
    "data = pd.read_json('data.json')"
   ]
  },
  {
   "cell_type": "code",
   "execution_count": 3,
   "id": "e8133835",
   "metadata": {},
   "outputs": [
    {
     "data": {
      "text/html": [
       "<div>\n",
       "<style scoped>\n",
       "    .dataframe tbody tr th:only-of-type {\n",
       "        vertical-align: middle;\n",
       "    }\n",
       "\n",
       "    .dataframe tbody tr th {\n",
       "        vertical-align: top;\n",
       "    }\n",
       "\n",
       "    .dataframe thead th {\n",
       "        text-align: right;\n",
       "    }\n",
       "</style>\n",
       "<table border=\"1\" class=\"dataframe\">\n",
       "  <thead>\n",
       "    <tr style=\"text-align: right;\">\n",
       "      <th></th>\n",
       "      <th>repo</th>\n",
       "      <th>language</th>\n",
       "      <th>readme_contents</th>\n",
       "    </tr>\n",
       "  </thead>\n",
       "  <tbody>\n",
       "    <tr>\n",
       "      <th>0</th>\n",
       "      <td>thedaviddias/Front-End-Checklist</td>\n",
       "      <td>None</td>\n",
       "      <td>&lt;h1 align=\"center\"&gt;\\n&lt;br&gt;\\n  &lt;img src=\"https:/...</td>\n",
       "    </tr>\n",
       "    <tr>\n",
       "      <th>1</th>\n",
       "      <td>onevcat/Kingfisher</td>\n",
       "      <td>Swift</td>\n",
       "      <td>&lt;p align=\"center\"&gt;\\n&lt;img src=\"https://raw.gith...</td>\n",
       "    </tr>\n",
       "    <tr>\n",
       "      <th>2</th>\n",
       "      <td>FallibleInc/security-guide-for-developers</td>\n",
       "      <td>None</td>\n",
       "      <td># 实用性 WEB 开发人员安全须知  \\n\\n### 目标读者  \\n\\n安全问题主要由以...</td>\n",
       "    </tr>\n",
       "    <tr>\n",
       "      <th>3</th>\n",
       "      <td>tailwindlabs/tailwindcss</td>\n",
       "      <td>JavaScript</td>\n",
       "      <td>&lt;p&gt;\\n    &lt;a href=\"https://tailwindcss.com/\" ta...</td>\n",
       "    </tr>\n",
       "    <tr>\n",
       "      <th>4</th>\n",
       "      <td>codepath/android_guides</td>\n",
       "      <td>None</td>\n",
       "      <td># CodePath Android Cliffnotes\\n\\nWelcome to th...</td>\n",
       "    </tr>\n",
       "  </tbody>\n",
       "</table>\n",
       "</div>"
      ],
      "text/plain": [
       "                                        repo    language  \\\n",
       "0           thedaviddias/Front-End-Checklist        None   \n",
       "1                         onevcat/Kingfisher       Swift   \n",
       "2  FallibleInc/security-guide-for-developers        None   \n",
       "3                   tailwindlabs/tailwindcss  JavaScript   \n",
       "4                    codepath/android_guides        None   \n",
       "\n",
       "                                     readme_contents  \n",
       "0  <h1 align=\"center\">\\n<br>\\n  <img src=\"https:/...  \n",
       "1  <p align=\"center\">\\n<img src=\"https://raw.gith...  \n",
       "2  # 实用性 WEB 开发人员安全须知  \\n\\n### 目标读者  \\n\\n安全问题主要由以...  \n",
       "3  <p>\\n    <a href=\"https://tailwindcss.com/\" ta...  \n",
       "4  # CodePath Android Cliffnotes\\n\\nWelcome to th...  "
      ]
     },
     "execution_count": 3,
     "metadata": {},
     "output_type": "execute_result"
    }
   ],
   "source": [
    "data.head()"
   ]
  },
  {
   "cell_type": "markdown",
   "id": "5ce34056",
   "metadata": {},
   "source": [
    "# Prepare"
   ]
  },
  {
   "cell_type": "code",
   "execution_count": 4,
   "id": "6bd95961",
   "metadata": {},
   "outputs": [
    {
     "data": {
      "text/plain": [
       "repo                0\n",
       "language           54\n",
       "readme_contents     0\n",
       "dtype: int64"
      ]
     },
     "execution_count": 4,
     "metadata": {},
     "output_type": "execute_result"
    }
   ],
   "source": [
    "data.isna().sum()"
   ]
  },
  {
   "cell_type": "code",
   "execution_count": 5,
   "id": "6e91ed0c",
   "metadata": {},
   "outputs": [],
   "source": [
    "# removed languages that were 'none'\n",
    "data = data.dropna()"
   ]
  },
  {
   "cell_type": "code",
   "execution_count": 6,
   "id": "e415db4a",
   "metadata": {},
   "outputs": [
    {
     "data": {
      "text/plain": [
       "506"
      ]
     },
     "execution_count": 6,
     "metadata": {},
     "output_type": "execute_result"
    }
   ],
   "source": [
    "len(data)"
   ]
  },
  {
   "cell_type": "code",
   "execution_count": 7,
   "id": "ade2b31a",
   "metadata": {},
   "outputs": [
    {
     "data": {
      "text/plain": [
       "JavaScript          141\n",
       "Python               59\n",
       "Java                 46\n",
       "TypeScript           45\n",
       "Go                   36\n",
       "C++                  30\n",
       "C                    20\n",
       "Shell                13\n",
       "Swift                13\n",
       "HTML                 12\n",
       "Rust                 11\n",
       "Kotlin                9\n",
       "C#                    9\n",
       "Ruby                  9\n",
       "Jupyter Notebook      6\n",
       "Vue                   6\n",
       "Vim script            6\n",
       "PHP                   6\n",
       "CSS                   5\n",
       "Objective-C           3\n",
       "Haskell               2\n",
       "CoffeeScript          2\n",
       "Elixir                2\n",
       "Lua                   2\n",
       "TeX                   2\n",
       "Crystal               1\n",
       "Dockerfile            1\n",
       "Rascal                1\n",
       "AsciiDoc              1\n",
       "Clojure               1\n",
       "Standard ML           1\n",
       "Emacs Lisp            1\n",
       "Makefile              1\n",
       "Batchfile             1\n",
       "Dart                  1\n",
       "OCaml                 1\n",
       "Name: language, dtype: int64"
      ]
     },
     "execution_count": 7,
     "metadata": {},
     "output_type": "execute_result"
    }
   ],
   "source": [
    "data.language.value_counts()"
   ]
  },
  {
   "cell_type": "code",
   "execution_count": 8,
   "id": "95cae965",
   "metadata": {},
   "outputs": [],
   "source": [
    "# brought the dataset down to those languages that were more than or equal to 30\n",
    "data = data[data['language'].map(data['language'].value_counts()) >= 30]"
   ]
  },
  {
   "cell_type": "code",
   "execution_count": 9,
   "id": "200e8641",
   "metadata": {},
   "outputs": [
    {
     "data": {
      "text/plain": [
       "357"
      ]
     },
     "execution_count": 9,
     "metadata": {},
     "output_type": "execute_result"
    }
   ],
   "source": [
    "len(data)"
   ]
  },
  {
   "cell_type": "code",
   "execution_count": 10,
   "id": "3c0bf776",
   "metadata": {},
   "outputs": [
    {
     "data": {
      "text/plain": [
       "<AxesSubplot:>"
      ]
     },
     "execution_count": 10,
     "metadata": {},
     "output_type": "execute_result"
    },
    {
     "data": {
      "image/png": "[encoded data removed]",
      "text/plain": [
       "<Figure size 720x720 with 1 Axes>"
      ]
     },
     "metadata": {
      "needs_background": "light"
     },
     "output_type": "display_data"
    }
   ],
   "source": [
    "plt.figure(figsize=(10, 10))\n",
    "data.language.hist(align = 'mid')"
   ]
  },
  {
   "cell_type": "code",
   "execution_count": 11,
   "id": "3c348ed5",
   "metadata": {},
   "outputs": [
    {
     "data": {
      "text/plain": [
       "repo               0\n",
       "language           0\n",
       "readme_contents    0\n",
       "dtype: int64"
      ]
     },
     "execution_count": 11,
     "metadata": {},
     "output_type": "execute_result"
    }
   ],
   "source": [
    "data.isna().sum()"
   ]
  },
  {
   "cell_type": "code",
   "execution_count": 12,
   "id": "882cb01d",
   "metadata": {},
   "outputs": [],
   "source": [
    "def clean_readme(df):\n",
    "    for content in data.readme_contents: \n",
    "        basic_clean(content)\n",
    "    return content"
   ]
  },
  {
   "cell_type": "code",
   "execution_count": 13,
   "id": "08197ae5",
   "metadata": {},
   "outputs": [],
   "source": [
    "data = data.reset_index()"
   ]
  },
  {
   "cell_type": "code",
   "execution_count": null,
   "id": "c379f78e",
   "metadata": {},
   "outputs": [],
   "source": []
  },
  {
   "cell_type": "code",
   "execution_count": 14,
   "id": "39869da4",
   "metadata": {},
   "outputs": [],
   "source": [
    "data['cleaned_readme'] = data['readme_contents'].apply(lambda string: basic_clean(string))"
   ]
  },
  {
   "cell_type": "code",
   "execution_count": 15,
   "id": "7c629339",
   "metadata": {},
   "outputs": [
    {
     "data": {
      "text/html": [
       "<div>\n",
       "<style scoped>\n",
       "    .dataframe tbody tr th:only-of-type {\n",
       "        vertical-align: middle;\n",
       "    }\n",
       "\n",
       "    .dataframe tbody tr th {\n",
       "        vertical-align: top;\n",
       "    }\n",
       "\n",
       "    .dataframe thead th {\n",
       "        text-align: right;\n",
       "    }\n",
       "</style>\n",
       "<table border=\"1\" class=\"dataframe\">\n",
       "  <thead>\n",
       "    <tr style=\"text-align: right;\">\n",
       "      <th></th>\n",
       "      <th>index</th>\n",
       "      <th>repo</th>\n",
       "      <th>language</th>\n",
       "      <th>readme_contents</th>\n",
       "      <th>cleaned_readme</th>\n",
       "    </tr>\n",
       "  </thead>\n",
       "  <tbody>\n",
       "    <tr>\n",
       "      <th>0</th>\n",
       "      <td>3</td>\n",
       "      <td>tailwindlabs/tailwindcss</td>\n",
       "      <td>JavaScript</td>\n",
       "      <td>&lt;p&gt;\\n    &lt;a href=\"https://tailwindcss.com/\" ta...</td>\n",
       "      <td>p\\n    a hrefhttpstailwindcsscom target_blank\\...</td>\n",
       "    </tr>\n",
       "    <tr>\n",
       "      <th>1</th>\n",
       "      <td>5</td>\n",
       "      <td>github/fetch</td>\n",
       "      <td>JavaScript</td>\n",
       "      <td># window.fetch polyfill\\n\\nThe `fetch()` funct...</td>\n",
       "      <td>windowfetch polyfill\\n\\nthe fetch function is...</td>\n",
       "    </tr>\n",
       "    <tr>\n",
       "      <th>2</th>\n",
       "      <td>7</td>\n",
       "      <td>ianstormtaylor/slate</td>\n",
       "      <td>TypeScript</td>\n",
       "      <td>&lt;p align=\"center\"&gt;\\n  &lt;a href=\"#\"&gt;&lt;img src=\"./...</td>\n",
       "      <td>p aligncenter\\n  a hrefimg srcdocsimagesbanner...</td>\n",
       "    </tr>\n",
       "    <tr>\n",
       "      <th>3</th>\n",
       "      <td>8</td>\n",
       "      <td>Kong/insomnia</td>\n",
       "      <td>JavaScript</td>\n",
       "      <td># Insomnia REST Client\\n\\n[![Slack Channel](ht...</td>\n",
       "      <td>insomnia rest client\\n\\nslack channelhttpscha...</td>\n",
       "    </tr>\n",
       "    <tr>\n",
       "      <th>4</th>\n",
       "      <td>9</td>\n",
       "      <td>CymChad/BaseRecyclerViewAdapterHelper</td>\n",
       "      <td>Java</td>\n",
       "      <td>![](https://user-images.githubusercontent.com/...</td>\n",
       "      <td>httpsuserimagesgithubusercontentcom76982093319...</td>\n",
       "    </tr>\n",
       "    <tr>\n",
       "      <th>...</th>\n",
       "      <td>...</td>\n",
       "      <td>...</td>\n",
       "      <td>...</td>\n",
       "      <td>...</td>\n",
       "      <td>...</td>\n",
       "    </tr>\n",
       "    <tr>\n",
       "      <th>352</th>\n",
       "      <td>551</td>\n",
       "      <td>TheAlgorithms/Java</td>\n",
       "      <td>Java</td>\n",
       "      <td># 알고리즘 - 자바\\n\\n## 이 [개발브런치](https://github.com...</td>\n",
       "      <td>\\n\\n  httpsgithubcomthealgorithmsjavatreede...</td>\n",
       "    </tr>\n",
       "    <tr>\n",
       "      <th>353</th>\n",
       "      <td>555</td>\n",
       "      <td>tornadoweb/tornado</td>\n",
       "      <td>Python</td>\n",
       "      <td>Tornado Web Server\\n==================\\n\\n.. i...</td>\n",
       "      <td>tornado web server\\n\\n\\n image httpsbadgesgitt...</td>\n",
       "    </tr>\n",
       "    <tr>\n",
       "      <th>354</th>\n",
       "      <td>557</td>\n",
       "      <td>gulpjs/gulp</td>\n",
       "      <td>JavaScript</td>\n",
       "      <td>&lt;p align=\"center\"&gt;\\n  &lt;a href=\"https://gulpjs....</td>\n",
       "      <td>p aligncenter\\n  a hrefhttpsgulpjscom\\n    img...</td>\n",
       "    </tr>\n",
       "    <tr>\n",
       "      <th>355</th>\n",
       "      <td>558</td>\n",
       "      <td>alibaba/weex</td>\n",
       "      <td>C++</td>\n",
       "      <td># Weex\\n\\nA framework for building Mobile cros...</td>\n",
       "      <td>weex\\n\\na framework for building mobile cross...</td>\n",
       "    </tr>\n",
       "    <tr>\n",
       "      <th>356</th>\n",
       "      <td>559</td>\n",
       "      <td>dmlc/xgboost</td>\n",
       "      <td>C++</td>\n",
       "      <td>&lt;img src=https://raw.githubusercontent.com/dml...</td>\n",
       "      <td>img srchttpsrawgithubusercontentcomdmlcdmlcgit...</td>\n",
       "    </tr>\n",
       "  </tbody>\n",
       "</table>\n",
       "<p>357 rows × 5 columns</p>\n",
       "</div>"
      ],
      "text/plain": [
       "     index                                   repo    language  \\\n",
       "0        3               tailwindlabs/tailwindcss  JavaScript   \n",
       "1        5                           github/fetch  JavaScript   \n",
       "2        7                   ianstormtaylor/slate  TypeScript   \n",
       "3        8                          Kong/insomnia  JavaScript   \n",
       "4        9  CymChad/BaseRecyclerViewAdapterHelper        Java   \n",
       "..     ...                                    ...         ...   \n",
       "352    551                     TheAlgorithms/Java        Java   \n",
       "353    555                     tornadoweb/tornado      Python   \n",
       "354    557                            gulpjs/gulp  JavaScript   \n",
       "355    558                           alibaba/weex         C++   \n",
       "356    559                           dmlc/xgboost         C++   \n",
       "\n",
       "                                       readme_contents  \\\n",
       "0    <p>\\n    <a href=\"https://tailwindcss.com/\" ta...   \n",
       "1    # window.fetch polyfill\\n\\nThe `fetch()` funct...   \n",
       "2    <p align=\"center\">\\n  <a href=\"#\"><img src=\"./...   \n",
       "3    # Insomnia REST Client\\n\\n[![Slack Channel](ht...   \n",
       "4    ![](https://user-images.githubusercontent.com/...   \n",
       "..                                                 ...   \n",
       "352  # 알고리즘 - 자바\\n\\n## 이 [개발브런치](https://github.com...   \n",
       "353  Tornado Web Server\\n==================\\n\\n.. i...   \n",
       "354  <p align=\"center\">\\n  <a href=\"https://gulpjs....   \n",
       "355  # Weex\\n\\nA framework for building Mobile cros...   \n",
       "356  <img src=https://raw.githubusercontent.com/dml...   \n",
       "\n",
       "                                        cleaned_readme  \n",
       "0    p\\n    a hrefhttpstailwindcsscom target_blank\\...  \n",
       "1     windowfetch polyfill\\n\\nthe fetch function is...  \n",
       "2    p aligncenter\\n  a hrefimg srcdocsimagesbanner...  \n",
       "3     insomnia rest client\\n\\nslack channelhttpscha...  \n",
       "4    httpsuserimagesgithubusercontentcom76982093319...  \n",
       "..                                                 ...  \n",
       "352     \\n\\n  httpsgithubcomthealgorithmsjavatreede...  \n",
       "353  tornado web server\\n\\n\\n image httpsbadgesgitt...  \n",
       "354  p aligncenter\\n  a hrefhttpsgulpjscom\\n    img...  \n",
       "355   weex\\n\\na framework for building mobile cross...  \n",
       "356  img srchttpsrawgithubusercontentcomdmlcdmlcgit...  \n",
       "\n",
       "[357 rows x 5 columns]"
      ]
     },
     "execution_count": 15,
     "metadata": {},
     "output_type": "execute_result"
    }
   ],
   "source": [
    "data"
   ]
  },
  {
   "cell_type": "code",
   "execution_count": 16,
   "id": "c0c0cccf",
   "metadata": {},
   "outputs": [],
   "source": [
    "data = prep_article_data(df = data, column = 'readme_contents', extra_words=[], exclude_words=[])"
   ]
  },
  {
   "cell_type": "code",
   "execution_count": null,
   "id": "459f402f",
   "metadata": {},
   "outputs": [],
   "source": []
  }
 ],
 "metadata": {
  "kernelspec": {
   "display_name": "Python 3",
   "language": "python",
   "name": "python3"
  },
  "language_info": {
   "codemirror_mode": {
    "name": "ipython",
    "version": 3
   },
   "file_extension": ".py",
   "mimetype": "text/x-python",
   "name": "python",
   "nbconvert_exporter": "python",
   "pygments_lexer": "ipython3",
   "version": "3.8.8"
  }
 },
 "nbformat": 4,
 "nbformat_minor": 5
}

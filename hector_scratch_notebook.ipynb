{
 "cells": [
  {
   "cell_type": "code",
   "execution_count": 1,
   "id": "84b35129-a8a1-4d53-b061-0a61be4b81aa",
   "metadata": {},
   "outputs": [],
   "source": [
    "import acquire\n",
    "import requests\n",
    "from bs4 import BeautifulSoup \n",
    "import pandas as pd\n",
    "import re\n",
    "from time import strftime\n",
    "from time import sleep\n",
    "import os\n",
    "import json\n",
    "import unicodedata\n",
    "from typing import Dict, List, Optional, Union, cast\n",
    "import nltk\n",
    "from nltk.tokenize.toktok import ToktokTokenizer\n",
    "from nltk.corpus import stopwords\n",
    "from requests import get\n",
    "\n",
    "from env import github_token, github_username"
   ]
  },
  {
   "cell_type": "code",
   "execution_count": 2,
   "id": "6683480b-203e-4c6e-944e-fc30883c80c4",
   "metadata": {
    "tags": []
   },
   "outputs": [],
   "source": [
    "url = 'https://github.com/hoppscotch/hoppscotch'\n",
    "def stuff(url):\n",
    "    response = get(url, headers = {'User-Agent': 'Codeup Data Science'})\n",
    "    soup = BeautifulSoup(response.text, features='lxml')\n",
    "    speech = soup.select('.markdown-body')\n",
    "    speech = speech[0].select('p')\n",
    "    \n",
    "    words = [words.text for words in speech]\n",
    "    \n",
    "    return words"
   ]
  },
  {
   "cell_type": "code",
   "execution_count": 21,
   "id": "0273dab3-f11b-4b38-ba29-8376c8de5b09",
   "metadata": {
    "tags": []
   },
   "outputs": [],
   "source": [
    "words = stuff(url)"
   ]
  },
  {
   "cell_type": "code",
   "execution_count": 22,
   "id": "076f3058-c8d9-4737-80a4-9d4cc8da1e27",
   "metadata": {
    "tags": []
   },
   "outputs": [
    {
     "data": {
      "text/plain": [
       "['\\n',\n",
       " '',\n",
       " '\\n\\n      Open source API development ecosystem\\n    \\n',\n",
       " '\\n',\n",
       " '   ',\n",
       " '',\n",
       " '\\n\\n      Built with ❤︎ by\\n      \\n        contributors\\n      \\n\\n',\n",
       " '\\n\\n\\n\\n',\n",
       " ' ',\n",
       " '❤️ Lightweight: Crafted with minimalistic UI design.',\n",
       " '⚡️ Fast: Send requests and get/copy responses in real-time.',\n",
       " 'HTTP Methods',\n",
       " '🌈 Make it yours: Customizable combinations for background, foreground and accent colors — customize now ✨.',\n",
       " 'Theming',\n",
       " 'Customized themes are synced with cloud / local session',\n",
       " '🔥 PWA: Install as a PWA on your device.',\n",
       " '🚀 Request: Retrieve response from endpoint instantly.',\n",
       " '🔌 WebSocket: Establish full-duplex communication channels over a single TCP connection.',\n",
       " '📡 Server Sent Events: Receive a stream of updates from a server over a HTTP connection without resorting to polling.',\n",
       " '🌩 Socket.IO: Send and Receive data with SocketIO server.',\n",
       " '🦟 MQTT: Subscribe and Publish to topics of a MQTT Broker.',\n",
       " '🔮 GraphQL: GraphQL is a query language for APIs and a runtime for fulfilling those queries with your existing data.',\n",
       " '🔐 Authorization: Allows to identify the end user.',\n",
       " '📢 Headers: Describes the format the body of your request is being sent as.',\n",
       " '📫 Parameters: Use request parameters to set varying parts in simulated requests.',\n",
       " '📃 Request Body: Used to send and receive data via the REST API.',\n",
       " '👋 Response: Contains the status line, headers and the message/response body.',\n",
       " '⏰ History: Request entries are synced with cloud / local session storage to restore with a single click.',\n",
       " '📁 Collections: Keep your API requests organized with collections and folders. Reuse them with a single click.',\n",
       " 'Collections are synced with cloud / local session storage',\n",
       " '🌐 Proxy: Enable Proxy Mode from Settings to access blocked APIs.',\n",
       " 'Official proxy server is hosted by Hoppscotch - GitHub - Privacy Policy',\n",
       " '📜 Pre-Request Scripts β: Snippets of code associated with a request that are executed before the request is sent.',\n",
       " '📄 API Documentation: Create and share dynamic API documentation easily, quickly.',\n",
       " '⌨️ Keyboard Shortcuts: Optimized for efficiency.',\n",
       " 'Read our documentation on Keyboard Shortcuts',\n",
       " '🌎 i18n: Experience the app in your own language.',\n",
       " 'Help us to translate Hoppscotch. Please read TRANSLATIONS for details on our CODE OF CONDUCT, and the process for submitting pull requests to us.',\n",
       " '📦 Add-ons: Official add-ons for hoppscotch.',\n",
       " 'Proxy - A simple proxy server created for Hoppscotch',\n",
       " 'CLI β - A CLI solution for Hoppscotch',\n",
       " 'Browser Extensions - Browser extensions that simplifies access to Hoppscotch',\n",
       " ' Firefox \\xa0|\\xa0  Chrome',\n",
       " 'Extensions fixes CORS issues.',\n",
       " 'Hopp-Doc-Gen - An API doc generator CLI for Hoppscotch',\n",
       " 'Add-ons are developed and maintained under Hoppscotch Organization.',\n",
       " '☁️ Auth + Sync: Sign in and sync your data in real-time.',\n",
       " 'Sign in with',\n",
       " 'Synchronize your data',\n",
       " '✅ Post-Request Tests β: Write tests associated with a request that are executed after the request response.',\n",
       " '🌱 Environments : Environment variables allow you to store and reuse values in your requests and scripts.',\n",
       " '👨\\u200d👩\\u200d👧\\u200d👦 Teams β: Helps you collaborate across your team to design, develop, and test APIs faster.',\n",
       " '🚚 Bulk Edit: Edit key-value pairs in bulk.',\n",
       " 'For more features, please read our documentation.',\n",
       " 'hoppscotch.io',\n",
       " 'Sample keys only works with the production build.',\n",
       " 'Official container \\xa0 ',\n",
       " 'Please contribute using GitHub Flow. Create a branch, add commits, and open a pull request.',\n",
       " 'Please read CONTRIBUTING for details on our CODE OF CONDUCT, and the process for submitting pull requests to us.',\n",
       " 'We use GitHub Actions for continuous integration. Check out our build workflows.',\n",
       " 'See the CHANGELOG file for details.',\n",
       " 'This project exists thanks to all the people who contribute — make a contribution.',\n",
       " 'This project is licensed under the MIT License - see the LICENSE file for details.']"
      ]
     },
     "execution_count": 22,
     "metadata": {},
     "output_type": "execute_result"
    }
   ],
   "source": [
    "words"
   ]
  },
  {
   "cell_type": "code",
   "execution_count": 3,
   "id": "f3383bf4-19f3-49d0-b444-b4289f060ed5",
   "metadata": {
    "tags": []
   },
   "outputs": [],
   "source": [
    "def clean_speech(words):\n",
    "    original = ' '.join(words)\n",
    "    text = original.lower()\n",
    "    text = unicodedata.normalize('NFKD', text).encode('ascii', 'ignore').decode('utf-8', 'ignore')\n",
    "    text = re.sub(r\"[^a-z0-9'\\s]\", '', text)\n",
    "    wnl = nltk.stem.WordNetLemmatizer()\n",
    "    lemmas = [wnl.lemmatize(word) for word in text.split()]\n",
    "    text_lemma = ' '.join(lemmas)\n",
    "    stopwords = nltk.corpus.stopwords.words('english')\n",
    "    newStopWords = ['u','ha','wa']\n",
    "    stopwords.extend(newStopWords)\n",
    "    words = text_lemma.split()\n",
    "    filtered_words = [w for w in words if w not in stopwords]\n",
    "    speech = ' '.join(filtered_words)\n",
    "\n",
    "    return speech"
   ]
  },
  {
   "cell_type": "code",
   "execution_count": 23,
   "id": "01757380-c998-4391-a949-df1d5cc8ddb2",
   "metadata": {
    "tags": []
   },
   "outputs": [
    {
     "data": {
      "text/plain": [
       "'open source api development ecosystem built contributor lightweight crafted minimalistic ui design fast send request getcopy response realtime http method make customizable combination background foreground accent color customize theming customized theme synced cloud local session pwa install pwa device request retrieve response endpoint instantly websocket establish fullduplex communication channel single tcp connection server sent event receive stream update server http connection without resorting polling socketio send receive data socketio server mqtt subscribe publish topic mqtt broker graphql graphql query language apis runtime fulfilling query existing data authorization allows identify end user header describes format body request sent parameter use request parameter set varying part simulated request request body used send receive data via rest api response contains status line header messageresponse body history request entry synced cloud local session storage restore single click collection keep api request organized collection folder reuse single click collection synced cloud local session storage proxy enable proxy mode setting access blocked apis official proxy server hosted hoppscotch github privacy policy prerequest script snippet code associated request executed request sent api documentation create share dynamic api documentation easily quickly keyboard shortcut optimized efficiency read documentation keyboard shortcut i18n experience app language help translate hoppscotch please read translation detail code conduct process submitting pull request addons official addons hoppscotch proxy simple proxy server created hoppscotch cli cli solution hoppscotch browser extension browser extension simplifies access hoppscotch firefox chrome extension fix cors issue hoppdocgen api doc generator cli hoppscotch addons developed maintained hoppscotch organization auth sync sign sync data realtime sign synchronize data postrequest test write test associated request executed request response environment environment variable allow store reuse value request script team help collaborate across team design develop test apis faster bulk edit edit keyvalue pair bulk feature please read documentation hoppscotchio sample key work production build official container please contribute using github flow create branch add commits open pull request please read contributing detail code conduct process submitting pull request use github action continuous integration check build workflow see changelog file detail project exists thanks people contribute make contribution project licensed mit license see license file detail'"
      ]
     },
     "execution_count": 23,
     "metadata": {},
     "output_type": "execute_result"
    }
   ],
   "source": [
    "speech = clean_speech(words)\n",
    "speech"
   ]
  },
  {
   "cell_type": "code",
   "execution_count": null,
   "id": "be74c690-3b1c-46d8-a57a-2e74f523611f",
   "metadata": {},
   "outputs": [],
   "source": []
  },
  {
   "cell_type": "code",
   "execution_count": null,
   "id": "abee6c3b-f0f1-4f04-ac43-3e4235cb185f",
   "metadata": {
    "jupyter": {
     "source_hidden": true
    },
    "tags": []
   },
   "outputs": [],
   "source": [
    "df.readme_contents"
   ]
  },
  {
   "cell_type": "code",
   "execution_count": null,
   "id": "958690a8-59ac-4e0b-ab80-fd0ec737ecc0",
   "metadata": {},
   "outputs": [],
   "source": []
  },
  {
   "cell_type": "code",
   "execution_count": 4,
   "id": "acf73755-81bf-4010-99f6-02ab515a46cf",
   "metadata": {},
   "outputs": [
    {
     "data": {
      "text/html": [
       "<div>\n",
       "<style scoped>\n",
       "    .dataframe tbody tr th:only-of-type {\n",
       "        vertical-align: middle;\n",
       "    }\n",
       "\n",
       "    .dataframe tbody tr th {\n",
       "        vertical-align: top;\n",
       "    }\n",
       "\n",
       "    .dataframe thead th {\n",
       "        text-align: right;\n",
       "    }\n",
       "</style>\n",
       "<table border=\"1\" class=\"dataframe\">\n",
       "  <thead>\n",
       "    <tr style=\"text-align: right;\">\n",
       "      <th></th>\n",
       "      <th>repo</th>\n",
       "      <th>language</th>\n",
       "      <th>readme_contents</th>\n",
       "    </tr>\n",
       "  </thead>\n",
       "  <tbody>\n",
       "    <tr>\n",
       "      <th>0</th>\n",
       "      <td>thedaviddias/Front-End-Checklist</td>\n",
       "      <td>None</td>\n",
       "      <td>&lt;h1 align=\"center\"&gt;\\n&lt;br&gt;\\n  &lt;img src=\"https:/...</td>\n",
       "    </tr>\n",
       "    <tr>\n",
       "      <th>1</th>\n",
       "      <td>onevcat/Kingfisher</td>\n",
       "      <td>Swift</td>\n",
       "      <td>&lt;p align=\"center\"&gt;\\n&lt;img src=\"https://raw.gith...</td>\n",
       "    </tr>\n",
       "    <tr>\n",
       "      <th>2</th>\n",
       "      <td>FallibleInc/security-guide-for-developers</td>\n",
       "      <td>None</td>\n",
       "      <td># 实用性 WEB 开发人员安全须知  \\n\\n### 目标读者  \\n\\n安全问题主要由以...</td>\n",
       "    </tr>\n",
       "    <tr>\n",
       "      <th>3</th>\n",
       "      <td>tailwindlabs/tailwindcss</td>\n",
       "      <td>JavaScript</td>\n",
       "      <td>&lt;p&gt;\\n    &lt;a href=\"https://tailwindcss.com/\" ta...</td>\n",
       "    </tr>\n",
       "    <tr>\n",
       "      <th>4</th>\n",
       "      <td>codepath/android_guides</td>\n",
       "      <td>None</td>\n",
       "      <td># CodePath Android Cliffnotes\\n\\nWelcome to th...</td>\n",
       "    </tr>\n",
       "  </tbody>\n",
       "</table>\n",
       "</div>"
      ],
      "text/plain": [
       "                                        repo    language  \\\n",
       "0           thedaviddias/Front-End-Checklist        None   \n",
       "1                         onevcat/Kingfisher       Swift   \n",
       "2  FallibleInc/security-guide-for-developers        None   \n",
       "3                   tailwindlabs/tailwindcss  JavaScript   \n",
       "4                    codepath/android_guides        None   \n",
       "\n",
       "                                     readme_contents  \n",
       "0  <h1 align=\"center\">\\n<br>\\n  <img src=\"https:/...  \n",
       "1  <p align=\"center\">\\n<img src=\"https://raw.gith...  \n",
       "2  # 实用性 WEB 开发人员安全须知  \\n\\n### 目标读者  \\n\\n安全问题主要由以...  \n",
       "3  <p>\\n    <a href=\"https://tailwindcss.com/\" ta...  \n",
       "4  # CodePath Android Cliffnotes\\n\\nWelcome to th...  "
      ]
     },
     "execution_count": 4,
     "metadata": {},
     "output_type": "execute_result"
    }
   ],
   "source": [
    "df = pd.read_json('data.json')\n",
    "df.head()"
   ]
  },
  {
   "cell_type": "code",
   "execution_count": 5,
   "id": "9400befb-1992-474a-8a19-0400541cabdf",
   "metadata": {
    "tags": []
   },
   "outputs": [
    {
     "data": {
      "text/plain": [
       "JavaScript          141\n",
       "Python               59\n",
       "NaN                  54\n",
       "Java                 46\n",
       "TypeScript           45\n",
       "Go                   36\n",
       "C++                  30\n",
       "C                    20\n",
       "Swift                13\n",
       "Shell                13\n",
       "HTML                 12\n",
       "Rust                 11\n",
       "Ruby                  9\n",
       "Kotlin                9\n",
       "C#                    9\n",
       "Vim script            6\n",
       "Vue                   6\n",
       "PHP                   6\n",
       "Jupyter Notebook      6\n",
       "CSS                   5\n",
       "Objective-C           3\n",
       "TeX                   2\n",
       "CoffeeScript          2\n",
       "Elixir                2\n",
       "Haskell               2\n",
       "Lua                   2\n",
       "Batchfile             1\n",
       "OCaml                 1\n",
       "Dart                  1\n",
       "Emacs Lisp            1\n",
       "Standard ML           1\n",
       "Crystal               1\n",
       "Clojure               1\n",
       "Rascal                1\n",
       "AsciiDoc              1\n",
       "Dockerfile            1\n",
       "Makefile              1\n",
       "Name: language, dtype: int64"
      ]
     },
     "execution_count": 5,
     "metadata": {},
     "output_type": "execute_result"
    }
   ],
   "source": [
    "df.language.value_counts(dropna = False)"
   ]
  },
  {
   "cell_type": "code",
   "execution_count": 6,
   "id": "d6150343-9725-430f-95de-1c9ff4ee165f",
   "metadata": {},
   "outputs": [
    {
     "data": {
      "text/plain": [
       "repo                0\n",
       "language           54\n",
       "readme_contents     0\n",
       "dtype: int64"
      ]
     },
     "execution_count": 6,
     "metadata": {},
     "output_type": "execute_result"
    }
   ],
   "source": [
    "#sums null counts\n",
    "df.isnull().sum()"
   ]
  },
  {
   "cell_type": "code",
   "execution_count": 7,
   "id": "c3df349a-f7c4-418f-ab85-e97fb9ac9fb9",
   "metadata": {},
   "outputs": [
    {
     "data": {
      "text/plain": [
       "(560, 3)"
      ]
     },
     "execution_count": 7,
     "metadata": {},
     "output_type": "execute_result"
    }
   ],
   "source": [
    "df.shape"
   ]
  },
  {
   "cell_type": "code",
   "execution_count": 8,
   "id": "b2354a46-de0d-4b39-ac72-50591c0f47b6",
   "metadata": {},
   "outputs": [
    {
     "data": {
      "text/plain": [
       "(506, 3)"
      ]
     },
     "execution_count": 8,
     "metadata": {},
     "output_type": "execute_result"
    }
   ],
   "source": [
    "#drops nulls\n",
    "df = df.dropna()\n",
    "df.shape"
   ]
  },
  {
   "cell_type": "code",
   "execution_count": 9,
   "id": "1bac02b3-0c5b-446b-8650-02ecd43605af",
   "metadata": {},
   "outputs": [],
   "source": [
    "def is_chinese(texts):\n",
    "    '''\n",
    "    This function takes in a dataframe and return true if the scanned text is in chinese\n",
    "    '''\n",
    "    if re.search(\"[\\u4e00-\\u9FFF]\", texts):\n",
    "            return True"
   ]
  },
  {
   "cell_type": "code",
   "execution_count": 10,
   "id": "8c541063-2df2-4f7f-828e-f0179dbf5202",
   "metadata": {},
   "outputs": [],
   "source": [
    "#drops true values from is_chinese function\n",
    "df = df[df.readme_contents.apply(is_chinese) !=True]"
   ]
  },
  {
   "cell_type": "code",
   "execution_count": 11,
   "id": "9dc2c6b8-f289-4a77-b9c5-6720e25be177",
   "metadata": {},
   "outputs": [
    {
     "data": {
      "text/plain": [
       "(394, 3)"
      ]
     },
     "execution_count": 11,
     "metadata": {},
     "output_type": "execute_result"
    }
   ],
   "source": [
    "df.shape"
   ]
  },
  {
   "cell_type": "code",
   "execution_count": 12,
   "id": "3c8cdf00-cd5c-4498-8614-6467ba1c5d60",
   "metadata": {},
   "outputs": [
    {
     "data": {
      "text/html": [
       "<div>\n",
       "<style scoped>\n",
       "    .dataframe tbody tr th:only-of-type {\n",
       "        vertical-align: middle;\n",
       "    }\n",
       "\n",
       "    .dataframe tbody tr th {\n",
       "        vertical-align: top;\n",
       "    }\n",
       "\n",
       "    .dataframe thead th {\n",
       "        text-align: right;\n",
       "    }\n",
       "</style>\n",
       "<table border=\"1\" class=\"dataframe\">\n",
       "  <thead>\n",
       "    <tr style=\"text-align: right;\">\n",
       "      <th></th>\n",
       "      <th>repo</th>\n",
       "      <th>language</th>\n",
       "      <th>readme_contents</th>\n",
       "    </tr>\n",
       "  </thead>\n",
       "  <tbody>\n",
       "    <tr>\n",
       "      <th>3</th>\n",
       "      <td>tailwindlabs/tailwindcss</td>\n",
       "      <td>JavaScript</td>\n",
       "      <td>&lt;p&gt;\\n    &lt;a href=\"https://tailwindcss.com/\" ta...</td>\n",
       "    </tr>\n",
       "    <tr>\n",
       "      <th>5</th>\n",
       "      <td>github/fetch</td>\n",
       "      <td>JavaScript</td>\n",
       "      <td># window.fetch polyfill\\n\\nThe `fetch()` funct...</td>\n",
       "    </tr>\n",
       "    <tr>\n",
       "      <th>8</th>\n",
       "      <td>Kong/insomnia</td>\n",
       "      <td>JavaScript</td>\n",
       "      <td># Insomnia REST Client\\n\\n[![Slack Channel](ht...</td>\n",
       "    </tr>\n",
       "    <tr>\n",
       "      <th>10</th>\n",
       "      <td>ggreer/the_silver_searcher</td>\n",
       "      <td>C</td>\n",
       "      <td># The Silver Searcher\\n\\nA code searching tool...</td>\n",
       "    </tr>\n",
       "    <tr>\n",
       "      <th>11</th>\n",
       "      <td>ReactiveX/RxSwift</td>\n",
       "      <td>Swift</td>\n",
       "      <td>&lt;p align=\"center\"&gt;\\n&lt;img src=\"assets/RxSwift_L...</td>\n",
       "    </tr>\n",
       "  </tbody>\n",
       "</table>\n",
       "</div>"
      ],
      "text/plain": [
       "                          repo    language  \\\n",
       "3     tailwindlabs/tailwindcss  JavaScript   \n",
       "5                 github/fetch  JavaScript   \n",
       "8                Kong/insomnia  JavaScript   \n",
       "10  ggreer/the_silver_searcher           C   \n",
       "11           ReactiveX/RxSwift       Swift   \n",
       "\n",
       "                                      readme_contents  \n",
       "3   <p>\\n    <a href=\"https://tailwindcss.com/\" ta...  \n",
       "5   # window.fetch polyfill\\n\\nThe `fetch()` funct...  \n",
       "8   # Insomnia REST Client\\n\\n[![Slack Channel](ht...  \n",
       "10  # The Silver Searcher\\n\\nA code searching tool...  \n",
       "11  <p align=\"center\">\\n<img src=\"assets/RxSwift_L...  "
      ]
     },
     "execution_count": 12,
     "metadata": {},
     "output_type": "execute_result"
    }
   ],
   "source": [
    "df.head(5)"
   ]
  },
  {
   "cell_type": "code",
   "execution_count": 13,
   "id": "aa18eaab-6888-49b6-90d1-f3795a4b78cb",
   "metadata": {},
   "outputs": [
    {
     "data": {
      "text/html": [
       "<div>\n",
       "<style scoped>\n",
       "    .dataframe tbody tr th:only-of-type {\n",
       "        vertical-align: middle;\n",
       "    }\n",
       "\n",
       "    .dataframe tbody tr th {\n",
       "        vertical-align: top;\n",
       "    }\n",
       "\n",
       "    .dataframe thead th {\n",
       "        text-align: right;\n",
       "    }\n",
       "</style>\n",
       "<table border=\"1\" class=\"dataframe\">\n",
       "  <thead>\n",
       "    <tr style=\"text-align: right;\">\n",
       "      <th></th>\n",
       "      <th>repo</th>\n",
       "      <th>language</th>\n",
       "      <th>readme_contents</th>\n",
       "    </tr>\n",
       "  </thead>\n",
       "  <tbody>\n",
       "    <tr>\n",
       "      <th>0</th>\n",
       "      <td>tailwindlabs/tailwindcss</td>\n",
       "      <td>JavaScript</td>\n",
       "      <td>&lt;p&gt;\\n    &lt;a href=\"https://tailwindcss.com/\" ta...</td>\n",
       "    </tr>\n",
       "    <tr>\n",
       "      <th>1</th>\n",
       "      <td>github/fetch</td>\n",
       "      <td>JavaScript</td>\n",
       "      <td># window.fetch polyfill\\n\\nThe `fetch()` funct...</td>\n",
       "    </tr>\n",
       "    <tr>\n",
       "      <th>2</th>\n",
       "      <td>Kong/insomnia</td>\n",
       "      <td>JavaScript</td>\n",
       "      <td># Insomnia REST Client\\n\\n[![Slack Channel](ht...</td>\n",
       "    </tr>\n",
       "    <tr>\n",
       "      <th>3</th>\n",
       "      <td>ggreer/the_silver_searcher</td>\n",
       "      <td>C</td>\n",
       "      <td># The Silver Searcher\\n\\nA code searching tool...</td>\n",
       "    </tr>\n",
       "    <tr>\n",
       "      <th>4</th>\n",
       "      <td>ReactiveX/RxSwift</td>\n",
       "      <td>Swift</td>\n",
       "      <td>&lt;p align=\"center\"&gt;\\n&lt;img src=\"assets/RxSwift_L...</td>\n",
       "    </tr>\n",
       "  </tbody>\n",
       "</table>\n",
       "</div>"
      ],
      "text/plain": [
       "                         repo    language  \\\n",
       "0    tailwindlabs/tailwindcss  JavaScript   \n",
       "1                github/fetch  JavaScript   \n",
       "2               Kong/insomnia  JavaScript   \n",
       "3  ggreer/the_silver_searcher           C   \n",
       "4           ReactiveX/RxSwift       Swift   \n",
       "\n",
       "                                     readme_contents  \n",
       "0  <p>\\n    <a href=\"https://tailwindcss.com/\" ta...  \n",
       "1  # window.fetch polyfill\\n\\nThe `fetch()` funct...  \n",
       "2  # Insomnia REST Client\\n\\n[![Slack Channel](ht...  \n",
       "3  # The Silver Searcher\\n\\nA code searching tool...  \n",
       "4  <p align=\"center\">\\n<img src=\"assets/RxSwift_L...  "
      ]
     },
     "execution_count": 13,
     "metadata": {},
     "output_type": "execute_result"
    }
   ],
   "source": [
    "#reset index \n",
    "df = df.reset_index(drop = True)\n",
    "df.head()"
   ]
  },
  {
   "cell_type": "code",
   "execution_count": 24,
   "id": "2887dd4e-8068-404b-b666-7820b9b3fe0b",
   "metadata": {
    "jupyter": {
     "source_hidden": true
    },
    "tags": []
   },
   "outputs": [],
   "source": [
    "def basic_clean(string):\n",
    "    '''\n",
    "    This function takes in a string and normalizes it for nlp purposes\n",
    "    '''\n",
    "    # lowercase the string\n",
    "    string = string.lower()\n",
    "\n",
    "    # return normal form for the unicode string, encode/remove ascii\n",
    "    string = unicodedata.normalize('NFKD', string).encode('ascii', 'ignore').decode('utf-8')\n",
    "    \n",
    "    # breaks down the string by keeping alphabet letters, numbers, apostraphes and spaces\n",
    "    string = re.sub(r\"[^a-z0-9\\s]\", '', string)\n",
    "    \n",
    "    return string\n",
    "\n",
    "\n",
    "def tokenize(string):\n",
    "    '''\n",
    "    This function takes in a string and tokenizes it\n",
    "    '''\n",
    "    # create the tokenizer\n",
    "    tokenizer = nltk.tokenize.ToktokTokenizer()\n",
    "    \n",
    "    # use the tokenizer, return as a string\n",
    "    string = tokenizer.tokenize(string, return_str = True)\n",
    "    \n",
    "    return string\n",
    "\n",
    "def stem(text):\n",
    "    '''\n",
    "    This function takes in a text and stems the words to their original stem\n",
    "    '''\n",
    "    \n",
    "    # create a porter stemmer\n",
    "    ps = nltk.porter.PorterStemmer()\n",
    "    \n",
    "    # loop through the text to stem the words\n",
    "    stems = [ps.stem(word) for word in text.split()]\n",
    "    \n",
    "    # return back together\n",
    "    stems = ' '.join(stems)\n",
    "    \n",
    "    return stems\n",
    "\n",
    "\n",
    "def lemmatize(text):\n",
    "    '''\n",
    "    This function takes in a text and changes the words back to their root (lemmatize)\n",
    "    '''\n",
    "    \n",
    "    # create the lemmatizer\n",
    "    wnl = nltk.stem.WordNetLemmatizer()\n",
    "    \n",
    "    # loop through the list to split and lemmatize\n",
    "    lemmas = [wnl.lemmatize(word) for word in text.split()]\n",
    "    \n",
    "    # return back together\n",
    "    lemmas =' '.join(lemmas)\n",
    "    \n",
    "    return lemmas\n",
    "\n",
    "\n",
    "def remove_stopwords(string, extra_words = [], exclude_words = []):\n",
    "    '''\n",
    "    This function takes in a string\n",
    "    And returns the string with the English stopwords removed\n",
    "    Additional stopwords can be added to extra_words (list)\n",
    "    or words to exclude from stopwords can be added to exclude_words (list)\n",
    "    \n",
    "    -- This might break if the excluded words aren't in the stopwords list\n",
    "    '''\n",
    "    # define stopwords list      \n",
    "    stopwords_list = stopwords.words('English')\n",
    "    \n",
    "    # add or remove words based on arguments\n",
    "    stopwords_list = set(stopwords_list) - set(exclude_words) # the set removes words\n",
    "    \n",
    "    stopwords_list = stopwords_list.union(set(extra_words))\n",
    "        \n",
    "    # remove stopwords from string\n",
    "    # turn string into list\n",
    "    words = string.split()\n",
    "    \n",
    "    # remove the stopwords\n",
    "    filtered_words = [w for w in words if w not in stopwords_list]\n",
    "    \n",
    "    # turn back into a string\n",
    "    new_string = ' '.join(filtered_words)\n",
    "    \n",
    "    return new_string\n",
    "\n",
    "\n",
    "################## ~~~~~~ Mother Prep Function ~~~~~~ ##################\n",
    "\n",
    "def prepare_nlp_data(df, content = 'content', extra_words=[], exclude_words=[]):\n",
    "    '''\n",
    "    This function take in a df and the content (in string) for the column \n",
    "    with an option to pass lists for additional stopwords (extra_words)\n",
    "    and an option to pass words to exclude from stopwords (exclude words)\n",
    "    returns a df with the  original text, cleaned (tokenized and stopwords removed),\n",
    "    stemmed text, lemmatized text.\n",
    "    '''\n",
    "    df['clean'] = df[content].apply(basic_clean)\\\n",
    "                            .apply(tokenize)\\\n",
    "                            .apply(remove_stopwords, \n",
    "                                   extra_words=extra_words, exclude_words=exclude_words)\n",
    "    \n",
    "    df['stemmed'] = df['clean'].apply(stem)\n",
    "    \n",
    "    df['lemmatized'] = df['clean'].apply(lemmatize)\n",
    "    \n",
    "    return df\n",
    "\n",
    "\n",
    "def is_chinese(texts):\n",
    "    '''\n",
    "    This function takes in a dataframe and return true if the scanned text is in chinese\n",
    "    '''\n",
    "    if re.search(\"[\\u4e00-\\u9FFF]\", texts):\n",
    "            return True\n",
    "\n",
    "\n",
    "\n",
    "def get_top_4_languages(df):\n",
    "    '''\n",
    "    This function takes in a dataframe and returns the top four\n",
    "    programming languages found in the data\n",
    "    '''\n",
    "    top_4_list = list(df.language.value_counts().head(4).index)\n",
    "    mask = df.language.apply(lambda x: x in top_4_list)\n",
    "    df = df[mask]\n",
    "    return df\n",
    "\n",
    "\n",
    "def drop_unneeded_data(df):\n",
    "    '''\n",
    "    This function takes in the repo dataframe\n",
    "    Drops any rows with nulls\n",
    "    Drops any rows that are chinese\n",
    "    Drops all rows that aren't in the top 4 languages\n",
    "    '''\n",
    "    df = df.dropna()\n",
    "    df = df[df.readme_contents.apply(is_chinese) !=True]\n",
    "    df = get_top_4_languages(df)\n",
    "    df = df.reset_index().drop(columns = 'index')\n",
    "    return df\n",
    "\n",
    "\n",
    "def split_data(df):\n",
    "    '''\n",
    "    This function takes in a dataframe and splits it into train, test, and \n",
    "    validate dataframes for my model\n",
    "    '''\n",
    "\n",
    "    train_validate, test = train_test_split(df, test_size=.2, \n",
    "                                        random_state=123, stratify=df.language)\n",
    "    train, validate = train_test_split(train_validate, test_size=.3, \n",
    "                                   random_state=123, stratify=train_validate.language)\n",
    "\n",
    "    print('train--->', train.shape)\n",
    "    print('validate--->', validate.shape)\n",
    "    print('test--->', test.shape)\n",
    "    return train, validate, test"
   ]
  },
  {
   "cell_type": "code",
   "execution_count": 26,
   "id": "9486baf0-906e-4842-9b11-d46f63fce4b0",
   "metadata": {},
   "outputs": [],
   "source": [
    "df = prepare_nlp_data(df, content = 'readme_contents', extra_words=['customer', 'customers', '1', '2'])"
   ]
  },
  {
   "cell_type": "code",
   "execution_count": 27,
   "id": "62478439-b953-4518-9391-c4008edbb581",
   "metadata": {},
   "outputs": [
    {
     "data": {
      "text/html": [
       "<div>\n",
       "<style scoped>\n",
       "    .dataframe tbody tr th:only-of-type {\n",
       "        vertical-align: middle;\n",
       "    }\n",
       "\n",
       "    .dataframe tbody tr th {\n",
       "        vertical-align: top;\n",
       "    }\n",
       "\n",
       "    .dataframe thead th {\n",
       "        text-align: right;\n",
       "    }\n",
       "</style>\n",
       "<table border=\"1\" class=\"dataframe\">\n",
       "  <thead>\n",
       "    <tr style=\"text-align: right;\">\n",
       "      <th></th>\n",
       "      <th>repo</th>\n",
       "      <th>language</th>\n",
       "      <th>readme_contents</th>\n",
       "      <th>clean</th>\n",
       "      <th>stemmed</th>\n",
       "      <th>lemmatized</th>\n",
       "    </tr>\n",
       "  </thead>\n",
       "  <tbody>\n",
       "    <tr>\n",
       "      <th>0</th>\n",
       "      <td>tailwindlabs/tailwindcss</td>\n",
       "      <td>JavaScript</td>\n",
       "      <td>&lt;p&gt;\\n    &lt;a href=\"https://tailwindcss.com/\" ta...</td>\n",
       "      <td>p hrefhttpstailwindcsscom targetblank img altt...</td>\n",
       "      <td>p hrefhttpstailwindcsscom targetblank img altt...</td>\n",
       "      <td>p hrefhttpstailwindcsscom targetblank img altt...</td>\n",
       "    </tr>\n",
       "    <tr>\n",
       "      <th>1</th>\n",
       "      <td>github/fetch</td>\n",
       "      <td>JavaScript</td>\n",
       "      <td># window.fetch polyfill\\n\\nThe `fetch()` funct...</td>\n",
       "      <td>windowfetch polyfill fetch function promisebas...</td>\n",
       "      <td>windowfetch polyfil fetch function promisebas ...</td>\n",
       "      <td>windowfetch polyfill fetch function promisebas...</td>\n",
       "    </tr>\n",
       "    <tr>\n",
       "      <th>2</th>\n",
       "      <td>Kong/insomnia</td>\n",
       "      <td>JavaScript</td>\n",
       "      <td># Insomnia REST Client\\n\\n[![Slack Channel](ht...</td>\n",
       "      <td>insomnia rest client slack channelhttpschatins...</td>\n",
       "      <td>insomnia rest client slack channelhttpschatins...</td>\n",
       "      <td>insomnia rest client slack channelhttpschatins...</td>\n",
       "    </tr>\n",
       "    <tr>\n",
       "      <th>3</th>\n",
       "      <td>ggreer/the_silver_searcher</td>\n",
       "      <td>C</td>\n",
       "      <td># The Silver Searcher\\n\\nA code searching tool...</td>\n",
       "      <td>silver searcher code searching tool similar ac...</td>\n",
       "      <td>silver searcher code search tool similar ack f...</td>\n",
       "      <td>silver searcher code searching tool similar ac...</td>\n",
       "    </tr>\n",
       "    <tr>\n",
       "      <th>4</th>\n",
       "      <td>ReactiveX/RxSwift</td>\n",
       "      <td>Swift</td>\n",
       "      <td>&lt;p align=\"center\"&gt;\\n&lt;img src=\"assets/RxSwift_L...</td>\n",
       "      <td>p aligncenter img srcassetsrxswiftlogopng widt...</td>\n",
       "      <td>p aligncent img srcassetsrxswiftlogopng width3...</td>\n",
       "      <td>p aligncenter img srcassetsrxswiftlogopng widt...</td>\n",
       "    </tr>\n",
       "  </tbody>\n",
       "</table>\n",
       "</div>"
      ],
      "text/plain": [
       "                         repo    language  \\\n",
       "0    tailwindlabs/tailwindcss  JavaScript   \n",
       "1                github/fetch  JavaScript   \n",
       "2               Kong/insomnia  JavaScript   \n",
       "3  ggreer/the_silver_searcher           C   \n",
       "4           ReactiveX/RxSwift       Swift   \n",
       "\n",
       "                                     readme_contents  \\\n",
       "0  <p>\\n    <a href=\"https://tailwindcss.com/\" ta...   \n",
       "1  # window.fetch polyfill\\n\\nThe `fetch()` funct...   \n",
       "2  # Insomnia REST Client\\n\\n[![Slack Channel](ht...   \n",
       "3  # The Silver Searcher\\n\\nA code searching tool...   \n",
       "4  <p align=\"center\">\\n<img src=\"assets/RxSwift_L...   \n",
       "\n",
       "                                               clean  \\\n",
       "0  p hrefhttpstailwindcsscom targetblank img altt...   \n",
       "1  windowfetch polyfill fetch function promisebas...   \n",
       "2  insomnia rest client slack channelhttpschatins...   \n",
       "3  silver searcher code searching tool similar ac...   \n",
       "4  p aligncenter img srcassetsrxswiftlogopng widt...   \n",
       "\n",
       "                                             stemmed  \\\n",
       "0  p hrefhttpstailwindcsscom targetblank img altt...   \n",
       "1  windowfetch polyfil fetch function promisebas ...   \n",
       "2  insomnia rest client slack channelhttpschatins...   \n",
       "3  silver searcher code search tool similar ack f...   \n",
       "4  p aligncent img srcassetsrxswiftlogopng width3...   \n",
       "\n",
       "                                          lemmatized  \n",
       "0  p hrefhttpstailwindcsscom targetblank img altt...  \n",
       "1  windowfetch polyfill fetch function promisebas...  \n",
       "2  insomnia rest client slack channelhttpschatins...  \n",
       "3  silver searcher code searching tool similar ac...  \n",
       "4  p aligncenter img srcassetsrxswiftlogopng widt...  "
      ]
     },
     "execution_count": 27,
     "metadata": {},
     "output_type": "execute_result"
    }
   ],
   "source": [
    "df.head()"
   ]
  },
  {
   "cell_type": "code",
   "execution_count": null,
   "id": "0eddab41-0c41-4c2d-a359-9dd03825e5be",
   "metadata": {},
   "outputs": [],
   "source": []
  },
  {
   "cell_type": "markdown",
   "id": "c4d59db2-a6f3-49bc-b273-dc767f4c2107",
   "metadata": {},
   "source": [
    "#### prep function"
   ]
  },
  {
   "cell_type": "code",
   "execution_count": null,
   "id": "1802ae6a-78a3-4c9d-a442-f18fcaf2d4db",
   "metadata": {
    "jupyter": {
     "source_hidden": true
    },
    "tags": []
   },
   "outputs": [],
   "source": [
    "def prep():\n",
    "#drop nulls\n",
    "    df = df.dropna()\n",
    "#drop written chinese\n",
    "    df = df[df.readme_contents.apply(is_chinese) !=True]\n",
    "#Keeps top 5 languages\n",
    "    df = top_5\n",
    "#reindex and drop old index column\n",
    "    df = df.reset_index(drop = True)\n",
    "    \n",
    "    return df"
   ]
  },
  {
   "cell_type": "code",
   "execution_count": 14,
   "id": "46f532dd-10e6-4b27-9efc-6e6d2a1a6965",
   "metadata": {
    "jupyter": {
     "source_hidden": true
    },
    "tags": []
   },
   "outputs": [],
   "source": [
    "text = df['readme_contents'].iloc[0]"
   ]
  },
  {
   "cell_type": "code",
   "execution_count": 15,
   "id": "a81bb7fc-583f-49c4-a407-c1990020981e",
   "metadata": {
    "collapsed": true,
    "jupyter": {
     "outputs_hidden": true,
     "source_hidden": true
    },
    "tags": []
   },
   "outputs": [
    {
     "data": {
      "text/plain": [
       "'<p>\\n    <a href=\"https://tailwindcss.com/\" target=\"_blank\">\\n      <img alt=\"Tailwind CSS\" width=\"350\" src=\"https://refactoringui.nyc3.cdn.digitaloceanspaces.com/tailwind-logo-sticker.svg\">\\n    </a><br>\\n    A utility-first CSS framework for rapidly building custom user interfaces.\\n</p>\\n\\n<p>\\n    <a href=\"https://github.com/tailwindlabs/tailwindcss/actions\"><img src=\"https://img.shields.io/github/workflow/status/tailwindlabs/tailwindcss/Node.js%20CI\" alt=\"Build Status\"></a>\\n    <a href=\"https://www.npmjs.com/package/tailwindcss\"><img src=\"https://img.shields.io/npm/dt/tailwindcss.svg\" alt=\"Total Downloads\"></a>\\n    <a href=\"https://github.com/tailwindcss/tailwindcss/releases\"><img src=\"https://img.shields.io/npm/v/tailwindcss.svg\" alt=\"Latest Release\"></a>\\n    <a href=\"https://github.com/tailwindcss/tailwindcss/blob/master/LICENSE\"><img src=\"https://img.shields.io/npm/l/tailwindcss.svg\" alt=\"License\"></a>\\n</p>\\n\\n------\\n\\n## Documentation\\n\\nFor full documentation, visit [tailwindcss.com](https://tailwindcss.com/).\\n\\n## Community\\n\\nFor help, discussion about best practices, or any other conversation that would benefit from being searchable:\\n\\n[Discuss Tailwind CSS on GitHub](https://github.com/tailwindcss/tailwindcss/discussions)\\n\\nFor casual chit-chat with others using the framework:\\n\\n[Join the Tailwind CSS Discord Server](https://discord.gg/7NF8GNe)\\n\\n## Contributing\\n\\nIf you\\'re interested in contributing to Tailwind CSS, please read our [contributing docs](https://github.com/tailwindcss/tailwindcss/blob/master/.github/CONTRIBUTING.md) **before submitting a pull request**.\\n'"
      ]
     },
     "execution_count": 15,
     "metadata": {},
     "output_type": "execute_result"
    }
   ],
   "source": [
    "text"
   ]
  },
  {
   "cell_type": "code",
   "execution_count": 17,
   "id": "6717e267-f208-4487-a962-7ea2fee5d2a1",
   "metadata": {
    "collapsed": true,
    "jupyter": {
     "outputs_hidden": true,
     "source_hidden": true
    },
    "tags": []
   },
   "outputs": [
    {
     "data": {
      "text/plain": [
       "'<p>\\n    <a href=\"https://tailwindcss.com/\" target=\"_blank\">\\n      <img alt=\"tailwind css\" width=\"350\" src=\"https://refactoringui.nyc3.cdn.digitaloceanspaces.com/tailwind-logo-sticker.svg\">\\n    </a><br>\\n    a utility-first css framework for rapidly building custom user interfaces.\\n</p>\\n\\n<p>\\n    <a href=\"https://github.com/tailwindlabs/tailwindcss/actions\"><img src=\"https://img.shields.io/github/workflow/status/tailwindlabs/tailwindcss/node.js%20ci\" alt=\"build status\"></a>\\n    <a href=\"https://www.npmjs.com/package/tailwindcss\"><img src=\"https://img.shields.io/npm/dt/tailwindcss.svg\" alt=\"total downloads\"></a>\\n    <a href=\"https://github.com/tailwindcss/tailwindcss/releases\"><img src=\"https://img.shields.io/npm/v/tailwindcss.svg\" alt=\"latest release\"></a>\\n    <a href=\"https://github.com/tailwindcss/tailwindcss/blob/master/license\"><img src=\"https://img.shields.io/npm/l/tailwindcss.svg\" alt=\"license\"></a>\\n</p>\\n\\n------\\n\\n## documentation\\n\\nfor full documentation, visit [tailwindcss.com](https://tailwindcss.com/).\\n\\n## community\\n\\nfor help, discussion about best practices, or any other conversation that would benefit from being searchable:\\n\\n[discuss tailwind css on github](https://github.com/tailwindcss/tailwindcss/discussions)\\n\\nfor casual chit-chat with others using the framework:\\n\\n[join the tailwind css discord server](https://discord.gg/7nf8gne)\\n\\n## contributing\\n\\nif you\\'re interested in contributing to tailwind css, please read our [contributing docs](https://github.com/tailwindcss/tailwindcss/blob/master/.github/contributing.md) **before submitting a pull request**.\\n'"
      ]
     },
     "execution_count": 17,
     "metadata": {},
     "output_type": "execute_result"
    }
   ],
   "source": [
    "text = text.lower()\n",
    "text"
   ]
  },
  {
   "cell_type": "code",
   "execution_count": 20,
   "id": "baa67c7d-43dc-4d75-bd15-89b179f570b7",
   "metadata": {
    "collapsed": true,
    "jupyter": {
     "outputs_hidden": true,
     "source_hidden": true
    },
    "tags": []
   },
   "outputs": [
    {
     "ename": "AttributeError",
     "evalue": "'str' object has no attribute 'text'",
     "output_type": "error",
     "traceback": [
      "\u001b[0;31m---------------------------------------------------------------------------\u001b[0m",
      "\u001b[0;31mAttributeError\u001b[0m                            Traceback (most recent call last)",
      "\u001b[0;32m<ipython-input-20-2c20b20a3f46>\u001b[0m in \u001b[0;36m<module>\u001b[0;34m\u001b[0m\n\u001b[0;32m----> 1\u001b[0;31m \u001b[0msoup\u001b[0m \u001b[0;34m=\u001b[0m \u001b[0mBeautifulSoup\u001b[0m\u001b[0;34m(\u001b[0m\u001b[0mtext\u001b[0m\u001b[0;34m.\u001b[0m\u001b[0mtext\u001b[0m\u001b[0;34m,\u001b[0m \u001b[0mfeatures\u001b[0m\u001b[0;34m=\u001b[0m\u001b[0;34m'lxml'\u001b[0m\u001b[0;34m)\u001b[0m\u001b[0;34m\u001b[0m\u001b[0;34m\u001b[0m\u001b[0m\n\u001b[0m\u001b[1;32m      2\u001b[0m \u001b[0mspeech\u001b[0m \u001b[0;34m=\u001b[0m \u001b[0msoup\u001b[0m\u001b[0;34m.\u001b[0m\u001b[0mselect\u001b[0m\u001b[0;34m(\u001b[0m\u001b[0;34m'.markdown-body'\u001b[0m\u001b[0;34m)\u001b[0m\u001b[0;34m\u001b[0m\u001b[0;34m\u001b[0m\u001b[0m\n\u001b[1;32m      3\u001b[0m \u001b[0mtext\u001b[0m \u001b[0;34m=\u001b[0m \u001b[0mtext\u001b[0m\u001b[0;34m[\u001b[0m\u001b[0;36m0\u001b[0m\u001b[0;34m]\u001b[0m\u001b[0;34m.\u001b[0m\u001b[0mselect\u001b[0m\u001b[0;34m(\u001b[0m\u001b[0;34m'p'\u001b[0m\u001b[0;34m)\u001b[0m\u001b[0;34m\u001b[0m\u001b[0;34m\u001b[0m\u001b[0m\n",
      "\u001b[0;31mAttributeError\u001b[0m: 'str' object has no attribute 'text'"
     ]
    }
   ],
   "source": [
    "soup = BeautifulSoup(response.text, features='lxml')\n",
    "speech = soup.select('.markdown-body')\n",
    "text = text[0].select('p')"
   ]
  },
  {
   "cell_type": "code",
   "execution_count": null,
   "id": "6a5289e1-c125-4add-8c64-b65500bd5181",
   "metadata": {},
   "outputs": [],
   "source": []
  },
  {
   "cell_type": "code",
   "execution_count": null,
   "id": "566d66ed-f37d-4fb8-a590-a66e5681e0be",
   "metadata": {
    "tags": []
   },
   "outputs": [],
   "source": [
    "text = unicodedata.normalize('NFKD', text).encode('ascii', 'ignore').decode('utf-8', 'ignore')\n",
    "text = re.sub(r\"[^a-z0-9'\\s]\", '', text)\n",
    "wnl = nltk.stem.WordNetLemmatizer()\n",
    "lemmas = [wnl.lemmatize(word) for word in text.split()]\n",
    "text_lemma = ' '.join(lemmas)\n",
    "stopwords = nltk.corpus.stopwords.words('english')\n",
    "newStopWords = ['u','ha','wa']\n",
    "stopwords.extend(newStopWords)\n",
    "words = text_lemma.split()\n",
    "filtered_words = [w for w in words if w not in stopwords]\n",
    "speech = ' '.join(filtered_words)"
   ]
  },
  {
   "cell_type": "code",
   "execution_count": null,
   "id": "0aa4145d-c143-430f-b80b-21305c39838f",
   "metadata": {},
   "outputs": [],
   "source": [
    "speech"
   ]
  },
  {
   "cell_type": "code",
   "execution_count": null,
   "id": "1c29c872-dc60-4c55-a8a1-b495e34e3c1c",
   "metadata": {},
   "outputs": [],
   "source": []
  }
 ],
 "metadata": {
  "kernelspec": {
   "display_name": "Python 3",
   "language": "python",
   "name": "python3"
  },
  "language_info": {
   "codemirror_mode": {
    "name": "ipython",
    "version": 3
   },
   "file_extension": ".py",
   "mimetype": "text/x-python",
   "name": "python",
   "nbconvert_exporter": "python",
   "pygments_lexer": "ipython3",
   "version": "3.8.8"
  }
 },
 "nbformat": 4,
 "nbformat_minor": 5
}

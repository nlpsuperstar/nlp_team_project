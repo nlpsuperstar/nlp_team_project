{
 "cells": [
  {
   "cell_type": "code",
   "execution_count": 1,
   "id": "84b35129-a8a1-4d53-b061-0a61be4b81aa",
   "metadata": {
    "tags": []
   },
   "outputs": [
    {
     "name": "stderr",
     "output_type": "stream",
     "text": [
      "[nltk_data] Downloading package stopwords to\n",
      "[nltk_data]     /Users/hector/nltk_data...\n",
      "[nltk_data]   Package stopwords is already up-to-date!\n",
      "[nltk_data] Downloading package wordnet to /Users/hector/nltk_data...\n",
      "[nltk_data]   Package wordnet is already up-to-date!\n"
     ]
    }
   ],
   "source": [
    "import pandas as pd\n",
    "import numpy as np\n",
    "import matplotlib.pyplot as plt\n",
    "import os\n",
    "import json\n",
    "import unicodedata\n",
    "import re\n",
    "from bs4 import BeautifulSoup\n",
    "from typing import Dict, List, Optional, Union, cast\n",
    "from time import strftime, sleep\n",
    "\n",
    "import nltk\n",
    "from nltk.tokenize.toktok import ToktokTokenizer\n",
    "from nltk.corpus import stopwords\n",
    "nltk.download('stopwords')\n",
    "nltk.download('wordnet')\n",
    "\n",
    "import requests\n",
    "from requests import get\n",
    "\n",
    "from prepare import *\n",
    "from acquire import *\n",
    "\n",
    "from env import github_token, github_username"
   ]
  },
  {
   "cell_type": "code",
   "execution_count": null,
   "id": "bc361247-0e52-416b-bc64-c8db8be5a463",
   "metadata": {
    "tags": []
   },
   "outputs": [],
   "source": [
    "#run acquire.py"
   ]
  },
  {
   "cell_type": "code",
   "execution_count": 2,
   "id": "0532e2d1-cf50-4b5b-b645-10971b5a131b",
   "metadata": {},
   "outputs": [
    {
     "data": {
      "text/html": [
       "<div>\n",
       "<style scoped>\n",
       "    .dataframe tbody tr th:only-of-type {\n",
       "        vertical-align: middle;\n",
       "    }\n",
       "\n",
       "    .dataframe tbody tr th {\n",
       "        vertical-align: top;\n",
       "    }\n",
       "\n",
       "    .dataframe thead th {\n",
       "        text-align: right;\n",
       "    }\n",
       "</style>\n",
       "<table border=\"1\" class=\"dataframe\">\n",
       "  <thead>\n",
       "    <tr style=\"text-align: right;\">\n",
       "      <th></th>\n",
       "      <th>repo</th>\n",
       "      <th>language</th>\n",
       "      <th>readme_contents</th>\n",
       "    </tr>\n",
       "  </thead>\n",
       "  <tbody>\n",
       "    <tr>\n",
       "      <th>0</th>\n",
       "      <td>thedaviddias/Front-End-Checklist</td>\n",
       "      <td>None</td>\n",
       "      <td>&lt;h1 align=\"center\"&gt;\\n&lt;br&gt;\\n  &lt;img src=\"https:/...</td>\n",
       "    </tr>\n",
       "    <tr>\n",
       "      <th>1</th>\n",
       "      <td>onevcat/Kingfisher</td>\n",
       "      <td>Swift</td>\n",
       "      <td>&lt;p align=\"center\"&gt;\\n&lt;img src=\"https://raw.gith...</td>\n",
       "    </tr>\n",
       "    <tr>\n",
       "      <th>2</th>\n",
       "      <td>FallibleInc/security-guide-for-developers</td>\n",
       "      <td>None</td>\n",
       "      <td># 实用性 WEB 开发人员安全须知  \\n\\n### 目标读者  \\n\\n安全问题主要由以...</td>\n",
       "    </tr>\n",
       "    <tr>\n",
       "      <th>3</th>\n",
       "      <td>tailwindlabs/tailwindcss</td>\n",
       "      <td>JavaScript</td>\n",
       "      <td>&lt;p&gt;\\n    &lt;a href=\"https://tailwindcss.com/\" ta...</td>\n",
       "    </tr>\n",
       "    <tr>\n",
       "      <th>4</th>\n",
       "      <td>codepath/android_guides</td>\n",
       "      <td>None</td>\n",
       "      <td># CodePath Android Cliffnotes\\n\\nWelcome to th...</td>\n",
       "    </tr>\n",
       "  </tbody>\n",
       "</table>\n",
       "</div>"
      ],
      "text/plain": [
       "                                        repo    language  \\\n",
       "0           thedaviddias/Front-End-Checklist        None   \n",
       "1                         onevcat/Kingfisher       Swift   \n",
       "2  FallibleInc/security-guide-for-developers        None   \n",
       "3                   tailwindlabs/tailwindcss  JavaScript   \n",
       "4                    codepath/android_guides        None   \n",
       "\n",
       "                                     readme_contents  \n",
       "0  <h1 align=\"center\">\\n<br>\\n  <img src=\"https:/...  \n",
       "1  <p align=\"center\">\\n<img src=\"https://raw.gith...  \n",
       "2  # 实用性 WEB 开发人员安全须知  \\n\\n### 目标读者  \\n\\n安全问题主要由以...  \n",
       "3  <p>\\n    <a href=\"https://tailwindcss.com/\" ta...  \n",
       "4  # CodePath Android Cliffnotes\\n\\nWelcome to th...  "
      ]
     },
     "execution_count": 2,
     "metadata": {},
     "output_type": "execute_result"
    }
   ],
   "source": [
    "#reads in json\n",
    "df = pd.read_json('data.json')\n",
    "df.head()"
   ]
  },
  {
   "cell_type": "code",
   "execution_count": 3,
   "id": "80ba614d-4a64-4880-93eb-01880eedc141",
   "metadata": {},
   "outputs": [
    {
     "data": {
      "text/plain": [
       "(560, 3)"
      ]
     },
     "execution_count": 3,
     "metadata": {},
     "output_type": "execute_result"
    }
   ],
   "source": [
    "df.shape"
   ]
  },
  {
   "cell_type": "code",
   "execution_count": 4,
   "id": "14aabf61-ca41-49a3-b01e-8394730d1eed",
   "metadata": {
    "tags": []
   },
   "outputs": [
    {
     "data": {
      "text/plain": [
       "JavaScript          141\n",
       "Python               59\n",
       "NaN                  54\n",
       "Java                 46\n",
       "TypeScript           45\n",
       "Go                   36\n",
       "C++                  30\n",
       "C                    20\n",
       "Swift                13\n",
       "Shell                13\n",
       "HTML                 12\n",
       "Rust                 11\n",
       "Kotlin                9\n",
       "Ruby                  9\n",
       "C#                    9\n",
       "Vim script            6\n",
       "PHP                   6\n",
       "Jupyter Notebook      6\n",
       "Vue                   6\n",
       "CSS                   5\n",
       "Objective-C           3\n",
       "CoffeeScript          2\n",
       "TeX                   2\n",
       "Haskell               2\n",
       "Lua                   2\n",
       "Elixir                2\n",
       "OCaml                 1\n",
       "Rascal                1\n",
       "Dockerfile            1\n",
       "Crystal               1\n",
       "Standard ML           1\n",
       "Batchfile             1\n",
       "Dart                  1\n",
       "Makefile              1\n",
       "AsciiDoc              1\n",
       "Clojure               1\n",
       "Emacs Lisp            1\n",
       "Name: language, dtype: int64"
      ]
     },
     "execution_count": 4,
     "metadata": {},
     "output_type": "execute_result"
    }
   ],
   "source": [
    "df.language.value_counts(dropna = False)"
   ]
  },
  {
   "cell_type": "code",
   "execution_count": 5,
   "id": "1f820f86-592a-41cf-b77c-30c028b3aa75",
   "metadata": {},
   "outputs": [
    {
     "data": {
      "text/plain": [
       "repo                0\n",
       "language           54\n",
       "readme_contents     0\n",
       "dtype: int64"
      ]
     },
     "execution_count": 5,
     "metadata": {},
     "output_type": "execute_result"
    }
   ],
   "source": [
    "#sums null counts\n",
    "df.isnull().sum()"
   ]
  },
  {
   "cell_type": "code",
   "execution_count": 6,
   "id": "fd866ecd-a0db-418e-9d8c-9cbac25de393",
   "metadata": {},
   "outputs": [
    {
     "data": {
      "text/plain": [
       "(506, 3)"
      ]
     },
     "execution_count": 6,
     "metadata": {},
     "output_type": "execute_result"
    }
   ],
   "source": [
    "#drops nulls\n",
    "df = df.dropna()\n",
    "df.shape"
   ]
  },
  {
   "cell_type": "code",
   "execution_count": 7,
   "id": "0d45d569-c40f-4a94-af9c-984bdf989874",
   "metadata": {},
   "outputs": [
    {
     "data": {
      "text/html": [
       "<div>\n",
       "<style scoped>\n",
       "    .dataframe tbody tr th:only-of-type {\n",
       "        vertical-align: middle;\n",
       "    }\n",
       "\n",
       "    .dataframe tbody tr th {\n",
       "        vertical-align: top;\n",
       "    }\n",
       "\n",
       "    .dataframe thead th {\n",
       "        text-align: right;\n",
       "    }\n",
       "</style>\n",
       "<table border=\"1\" class=\"dataframe\">\n",
       "  <thead>\n",
       "    <tr style=\"text-align: right;\">\n",
       "      <th></th>\n",
       "      <th>repo</th>\n",
       "      <th>language</th>\n",
       "      <th>readme_contents</th>\n",
       "    </tr>\n",
       "  </thead>\n",
       "  <tbody>\n",
       "    <tr>\n",
       "      <th>0</th>\n",
       "      <td>onevcat/Kingfisher</td>\n",
       "      <td>Swift</td>\n",
       "      <td>&lt;p align=\"center\"&gt;\\n&lt;img src=\"https://raw.gith...</td>\n",
       "    </tr>\n",
       "    <tr>\n",
       "      <th>1</th>\n",
       "      <td>tailwindlabs/tailwindcss</td>\n",
       "      <td>JavaScript</td>\n",
       "      <td>&lt;p&gt;\\n    &lt;a href=\"https://tailwindcss.com/\" ta...</td>\n",
       "    </tr>\n",
       "    <tr>\n",
       "      <th>2</th>\n",
       "      <td>github/fetch</td>\n",
       "      <td>JavaScript</td>\n",
       "      <td># window.fetch polyfill\\n\\nThe `fetch()` funct...</td>\n",
       "    </tr>\n",
       "    <tr>\n",
       "      <th>3</th>\n",
       "      <td>ianstormtaylor/slate</td>\n",
       "      <td>TypeScript</td>\n",
       "      <td>&lt;p align=\"center\"&gt;\\n  &lt;a href=\"#\"&gt;&lt;img src=\"./...</td>\n",
       "    </tr>\n",
       "    <tr>\n",
       "      <th>4</th>\n",
       "      <td>Kong/insomnia</td>\n",
       "      <td>JavaScript</td>\n",
       "      <td># Insomnia REST Client\\n\\n[![Slack Channel](ht...</td>\n",
       "    </tr>\n",
       "  </tbody>\n",
       "</table>\n",
       "</div>"
      ],
      "text/plain": [
       "                       repo    language  \\\n",
       "0        onevcat/Kingfisher       Swift   \n",
       "1  tailwindlabs/tailwindcss  JavaScript   \n",
       "2              github/fetch  JavaScript   \n",
       "3      ianstormtaylor/slate  TypeScript   \n",
       "4             Kong/insomnia  JavaScript   \n",
       "\n",
       "                                     readme_contents  \n",
       "0  <p align=\"center\">\\n<img src=\"https://raw.gith...  \n",
       "1  <p>\\n    <a href=\"https://tailwindcss.com/\" ta...  \n",
       "2  # window.fetch polyfill\\n\\nThe `fetch()` funct...  \n",
       "3  <p align=\"center\">\\n  <a href=\"#\"><img src=\"./...  \n",
       "4  # Insomnia REST Client\\n\\n[![Slack Channel](ht...  "
      ]
     },
     "execution_count": 7,
     "metadata": {},
     "output_type": "execute_result"
    }
   ],
   "source": [
    "#reset index \n",
    "df = df.reset_index(drop = True)\n",
    "df.head()"
   ]
  },
  {
   "cell_type": "code",
   "execution_count": 8,
   "id": "df3a8166-58b7-4f53-81b2-75d41b6c59fe",
   "metadata": {},
   "outputs": [],
   "source": [
    "def clean(text):\n",
    "#this takes in the readme_content and prepares it.\n",
    "#the result is a clean value\n",
    "    #text = df['readme_contents'].iloc[0] #takes in the first value of the 1st row of the readme_contents column and assigns it 'text' variable\n",
    "    text = text.lower()#takes in the variable and sets all to lower\n",
    "    soup = BeautifulSoup(text, 'html.parser')#soups it!\n",
    "    text = soup.get_text()#grabs the texts from the readme_contents\n",
    "    text = unicodedata.normalize('NFKD', text).encode('ascii', 'ignore').decode('utf-8', 'ignore')#normalized and encodes\n",
    "    text = re.sub(r\"[^a-z0-9'\\s]\", '', text)#keeps alpha numeric characters\n",
    "    wnl = nltk.stem.WordNetLemmatizer()#lemma\n",
    "    lemmas = [wnl.lemmatize(word) for word in text.split()]#lemma loop\n",
    "    text_lemma = ' '.join(lemmas)#lemmas\n",
    "    stopwords = nltk.corpus.stopwords.words('english')#stopword\n",
    "    newStopWords = ['u','ha','wa']#we can change these. I left it in from my last exercise as a place holder if we found any other stopwords we wanted to use.\n",
    "    stopwords.extend(newStopWords)#adds new stopwords\n",
    "    words = text_lemma.split()#splits\n",
    "    filtered_words = [w for w in words if w not in stopwords]#loops the split\n",
    "    speech = ' '.join(filtered_words)#joins it all thgether\n",
    "\n",
    "#Could not figure out how to loop this correctly\n",
    "    return speech"
   ]
  },
  {
   "cell_type": "code",
   "execution_count": 10,
   "id": "982e08c1-21c6-43c0-8658-c411bfd99457",
   "metadata": {},
   "outputs": [
    {
     "data": {
      "text/html": [
       "<div>\n",
       "<style scoped>\n",
       "    .dataframe tbody tr th:only-of-type {\n",
       "        vertical-align: middle;\n",
       "    }\n",
       "\n",
       "    .dataframe tbody tr th {\n",
       "        vertical-align: top;\n",
       "    }\n",
       "\n",
       "    .dataframe thead th {\n",
       "        text-align: right;\n",
       "    }\n",
       "</style>\n",
       "<table border=\"1\" class=\"dataframe\">\n",
       "  <thead>\n",
       "    <tr style=\"text-align: right;\">\n",
       "      <th></th>\n",
       "      <th>repo</th>\n",
       "      <th>language</th>\n",
       "      <th>readme_contents</th>\n",
       "      <th>clean</th>\n",
       "    </tr>\n",
       "  </thead>\n",
       "  <tbody>\n",
       "    <tr>\n",
       "      <th>0</th>\n",
       "      <td>onevcat/Kingfisher</td>\n",
       "      <td>Swift</td>\n",
       "      <td>&lt;p align=\"center\"&gt;\\n&lt;img src=\"https://raw.gith...</td>\n",
       "      <td>kingfisher powerful pureswift library download...</td>\n",
       "    </tr>\n",
       "    <tr>\n",
       "      <th>1</th>\n",
       "      <td>tailwindlabs/tailwindcss</td>\n",
       "      <td>JavaScript</td>\n",
       "      <td>&lt;p&gt;\\n    &lt;a href=\"https://tailwindcss.com/\" ta...</td>\n",
       "      <td>utilityfirst cs framework rapidly building cus...</td>\n",
       "    </tr>\n",
       "    <tr>\n",
       "      <th>2</th>\n",
       "      <td>github/fetch</td>\n",
       "      <td>JavaScript</td>\n",
       "      <td># window.fetch polyfill\\n\\nThe `fetch()` funct...</td>\n",
       "      <td>windowfetch polyfill fetch function promisebas...</td>\n",
       "    </tr>\n",
       "    <tr>\n",
       "      <th>3</th>\n",
       "      <td>ianstormtaylor/slate</td>\n",
       "      <td>TypeScript</td>\n",
       "      <td>&lt;p align=\"center\"&gt;\\n  &lt;a href=\"#\"&gt;&lt;img src=\"./...</td>\n",
       "      <td>completely customizable framework building ric...</td>\n",
       "    </tr>\n",
       "    <tr>\n",
       "      <th>4</th>\n",
       "      <td>Kong/insomnia</td>\n",
       "      <td>JavaScript</td>\n",
       "      <td># Insomnia REST Client\\n\\n[![Slack Channel](ht...</td>\n",
       "      <td>insomnia rest client slack channelhttpschatins...</td>\n",
       "    </tr>\n",
       "  </tbody>\n",
       "</table>\n",
       "</div>"
      ],
      "text/plain": [
       "                       repo    language  \\\n",
       "0        onevcat/Kingfisher       Swift   \n",
       "1  tailwindlabs/tailwindcss  JavaScript   \n",
       "2              github/fetch  JavaScript   \n",
       "3      ianstormtaylor/slate  TypeScript   \n",
       "4             Kong/insomnia  JavaScript   \n",
       "\n",
       "                                     readme_contents  \\\n",
       "0  <p align=\"center\">\\n<img src=\"https://raw.gith...   \n",
       "1  <p>\\n    <a href=\"https://tailwindcss.com/\" ta...   \n",
       "2  # window.fetch polyfill\\n\\nThe `fetch()` funct...   \n",
       "3  <p align=\"center\">\\n  <a href=\"#\"><img src=\"./...   \n",
       "4  # Insomnia REST Client\\n\\n[![Slack Channel](ht...   \n",
       "\n",
       "                                               clean  \n",
       "0  kingfisher powerful pureswift library download...  \n",
       "1  utilityfirst cs framework rapidly building cus...  \n",
       "2  windowfetch polyfill fetch function promisebas...  \n",
       "3  completely customizable framework building ric...  \n",
       "4  insomnia rest client slack channelhttpschatins...  "
      ]
     },
     "execution_count": 10,
     "metadata": {},
     "output_type": "execute_result"
    }
   ],
   "source": [
    "#assigns 'clean' column to the df and calls the 'clean' function to iterate through the rows.\n",
    "df['clean'] = df.readme_contents.apply(clean)\n",
    "df.head()"
   ]
  },
  {
   "cell_type": "code",
   "execution_count": null,
   "id": "5c7de38a-32c2-4148-aed0-5b90abe668b2",
   "metadata": {},
   "outputs": [],
   "source": [
    "#### Notes below. Some possible useful code to get rid of the chinese documents below...."
   ]
  },
  {
   "cell_type": "code",
   "execution_count": null,
   "id": "1bac02b3-0c5b-446b-8650-02ecd43605af",
   "metadata": {},
   "outputs": [],
   "source": [
    "#This gets rid of the chinese documents\n",
    "def is_chinese(texts):\n",
    "    '''\n",
    "    This function takes in a dataframe and return true if the scanned text is in chinese\n",
    "    '''\n",
    "    if re.search(\"[\\u4e00-\\u9FFF]\", texts):\n",
    "            return True"
   ]
  },
  {
   "cell_type": "code",
   "execution_count": null,
   "id": "8c541063-2df2-4f7f-828e-f0179dbf5202",
   "metadata": {},
   "outputs": [],
   "source": [
    "#drops true values from is_chinese function\n",
    "df = df[df.readme_contents.apply(is_chinese) !=True]"
   ]
  },
  {
   "cell_type": "code",
   "execution_count": null,
   "id": "9486baf0-906e-4842-9b11-d46f63fce4b0",
   "metadata": {},
   "outputs": [],
   "source": [
    "df = prepare_nlp_data(df, content = 'readme_contents', extra_words=['customer', 'customers', '1', '2'])"
   ]
  },
  {
   "cell_type": "code",
   "execution_count": null,
   "id": "62478439-b953-4518-9391-c4008edbb581",
   "metadata": {},
   "outputs": [],
   "source": [
    "df.head()"
   ]
  }
 ],
 "metadata": {
  "kernelspec": {
   "display_name": "Python 3",
   "language": "python",
   "name": "python3"
  },
  "language_info": {
   "codemirror_mode": {
    "name": "ipython",
    "version": 3
   },
   "file_extension": ".py",
   "mimetype": "text/x-python",
   "name": "python",
   "nbconvert_exporter": "python",
   "pygments_lexer": "ipython3",
   "version": "3.8.8"
  }
 },
 "nbformat": 4,
 "nbformat_minor": 5
}

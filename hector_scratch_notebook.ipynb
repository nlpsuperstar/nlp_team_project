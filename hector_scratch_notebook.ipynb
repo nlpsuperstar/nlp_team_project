{
 "cells": [
  {
   "cell_type": "code",
   "execution_count": 4,
   "id": "84b35129-a8a1-4d53-b061-0a61be4b81aa",
   "metadata": {},
   "outputs": [],
   "source": [
    "import acquire\n",
    "import requests\n",
    "from bs4 import BeautifulSoup \n",
    "import pandas as pd\n",
    "import re\n",
    "from time import strftime\n",
    "from time import sleep\n",
    "import os\n",
    "import json\n",
    "from typing import Dict, List, Optional, Union, cast\n",
    "\n",
    "from env import github_token, github_username"
   ]
  },
  {
   "cell_type": "code",
   "execution_count": 6,
   "id": "ae968a22-fa5b-40a6-95bd-54c9cbbcca98",
   "metadata": {
    "tags": []
   },
   "outputs": [
    {
     "name": "stdout",
     "output_type": "stream",
     "text": [
      "https://github.com/danistefanovic/build-your-own-x\n",
      "90\n",
      "waiting\n",
      "continue\n",
      "https://github.com/denoland/deno\n",
      "170\n",
      "waiting\n",
      "continue\n",
      "https://github.com/nvbn/thefuck\n",
      "250\n",
      "waiting\n",
      "continue\n",
      "https://github.com/pallets/flask\n",
      "330\n",
      "waiting\n",
      "continue\n",
      "https://github.com/protocolbuffers/protobuf\n",
      "410\n",
      "waiting\n",
      "continue\n",
      "https://github.com/scutan90/DeepLearning-500-questions\n",
      "490\n",
      "waiting\n",
      "continue\n",
      "https://github.com/sdmg15/Best-websites-a-programmer-should-visit\n",
      "570\n",
      "waiting\n",
      "continue\n",
      "https://github.com/python/cpython\n",
      "650\n",
      "waiting\n",
      "continue\n",
      "https://github.com/Alamofire/Alamofire\n",
      "730\n",
      "waiting\n",
      "continue\n"
     ]
    }
   ],
   "source": [
    "links = acquire.get_url_list()"
   ]
  },
  {
   "cell_type": "code",
   "execution_count": null,
   "id": "acf73755-81bf-4010-99f6-02ab515a46cf",
   "metadata": {},
   "outputs": [],
   "source": []
  }
 ],
 "metadata": {
  "kernelspec": {
   "display_name": "Python 3",
   "language": "python",
   "name": "python3"
  },
  "language_info": {
   "codemirror_mode": {
    "name": "ipython",
    "version": 3
   },
   "file_extension": ".py",
   "mimetype": "text/x-python",
   "name": "python",
   "nbconvert_exporter": "python",
   "pygments_lexer": "ipython3",
   "version": "3.8.8"
  }
 },
 "nbformat": 4,
 "nbformat_minor": 5
}

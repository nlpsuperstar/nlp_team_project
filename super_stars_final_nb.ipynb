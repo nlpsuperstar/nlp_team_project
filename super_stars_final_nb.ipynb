{
 "cells": [
  {
   "cell_type": "markdown",
   "id": "9af4fddc",
   "metadata": {},
   "source": [
    "# NLP Super Stars --  A Natural Language Processing Project\n",
    "Jared Vahle, Joshua Bryant, Hector Rodriguez, Sarah Lawson Woods - November 2021"
   ]
  },
  {
   "cell_type": "code",
   "execution_count": 1,
   "id": "4d1afde1",
   "metadata": {},
   "outputs": [],
   "source": [
    "import requests\n",
    "from bs4 import BeautifulSoup \n",
    "\n",
    "import matplotlib.pyplot as plt\n",
    "import seaborn as sns\n",
    "\n",
    "import pandas as pd\n",
    "import numpy as np\n",
    "\n",
    "import re\n",
    "from pprint import pprint\n",
    "\n",
    "from wordcloud import WordCloud\n",
    "from modeling import *\n",
    "\n",
    "import os\n",
    "import json\n",
    "\n",
    "from sklearn.feature_extraction.text import CountVectorizer,TfidfVectorizer\n",
    "from sklearn.naive_bayes import MultinomialNB\n",
    "from sklearn.tree import DecisionTreeClassifier\n",
    "\n",
    "from prepare import *\n",
    "\n",
    "import nltk\n",
    "import nltk.sentiment\n",
    "\n",
    "import warnings\n"
   ]
  },
  {
   "cell_type": "code",
   "execution_count": 2,
   "id": "cae80f3a",
   "metadata": {},
   "outputs": [],
   "source": [
    "warnings.filterwarnings('ignore')\n",
    "plt.rc('figure', figsize=(13, 7))\n",
    "plt.style.use('seaborn-darkgrid')\n",
    "sia = nltk.sentiment.SentimentIntensityAnalyzer()"
   ]
  },
  {
   "cell_type": "markdown",
   "id": "d36a9427",
   "metadata": {},
   "source": [
    "# Acquire"
   ]
  },
  {
   "cell_type": "code",
   "execution_count": 3,
   "id": "e15365dc",
   "metadata": {},
   "outputs": [],
   "source": [
    "# pulling in the data from a json that included all the readme's in the repo list\n",
    "data = pd.read_json('data.json')"
   ]
  },
  {
   "cell_type": "code",
   "execution_count": 4,
   "id": "e8133835",
   "metadata": {},
   "outputs": [
    {
     "data": {
      "text/html": [
       "<div>\n",
       "<style scoped>\n",
       "    .dataframe tbody tr th:only-of-type {\n",
       "        vertical-align: middle;\n",
       "    }\n",
       "\n",
       "    .dataframe tbody tr th {\n",
       "        vertical-align: top;\n",
       "    }\n",
       "\n",
       "    .dataframe thead th {\n",
       "        text-align: right;\n",
       "    }\n",
       "</style>\n",
       "<table border=\"1\" class=\"dataframe\">\n",
       "  <thead>\n",
       "    <tr style=\"text-align: right;\">\n",
       "      <th></th>\n",
       "      <th>repo</th>\n",
       "      <th>language</th>\n",
       "      <th>readme_contents</th>\n",
       "    </tr>\n",
       "  </thead>\n",
       "  <tbody>\n",
       "    <tr>\n",
       "      <th>0</th>\n",
       "      <td>thedaviddias/Front-End-Checklist</td>\n",
       "      <td>None</td>\n",
       "      <td>&lt;h1 align=\"center\"&gt;\\n&lt;br&gt;\\n  &lt;img src=\"https:/...</td>\n",
       "    </tr>\n",
       "    <tr>\n",
       "      <th>1</th>\n",
       "      <td>onevcat/Kingfisher</td>\n",
       "      <td>Swift</td>\n",
       "      <td>&lt;p align=\"center\"&gt;\\n&lt;img src=\"https://raw.gith...</td>\n",
       "    </tr>\n",
       "    <tr>\n",
       "      <th>2</th>\n",
       "      <td>FallibleInc/security-guide-for-developers</td>\n",
       "      <td>None</td>\n",
       "      <td># 实用性 WEB 开发人员安全须知  \\n\\n### 目标读者  \\n\\n安全问题主要由以...</td>\n",
       "    </tr>\n",
       "    <tr>\n",
       "      <th>3</th>\n",
       "      <td>tailwindlabs/tailwindcss</td>\n",
       "      <td>JavaScript</td>\n",
       "      <td>&lt;p&gt;\\n    &lt;a href=\"https://tailwindcss.com/\" ta...</td>\n",
       "    </tr>\n",
       "    <tr>\n",
       "      <th>4</th>\n",
       "      <td>codepath/android_guides</td>\n",
       "      <td>None</td>\n",
       "      <td># CodePath Android Cliffnotes\\n\\nWelcome to th...</td>\n",
       "    </tr>\n",
       "  </tbody>\n",
       "</table>\n",
       "</div>"
      ],
      "text/plain": [
       "                                        repo    language  \\\n",
       "0           thedaviddias/Front-End-Checklist        None   \n",
       "1                         onevcat/Kingfisher       Swift   \n",
       "2  FallibleInc/security-guide-for-developers        None   \n",
       "3                   tailwindlabs/tailwindcss  JavaScript   \n",
       "4                    codepath/android_guides        None   \n",
       "\n",
       "                                     readme_contents  \n",
       "0  <h1 align=\"center\">\\n<br>\\n  <img src=\"https:/...  \n",
       "1  <p align=\"center\">\\n<img src=\"https://raw.gith...  \n",
       "2  # 实用性 WEB 开发人员安全须知  \\n\\n### 目标读者  \\n\\n安全问题主要由以...  \n",
       "3  <p>\\n    <a href=\"https://tailwindcss.com/\" ta...  \n",
       "4  # CodePath Android Cliffnotes\\n\\nWelcome to th...  "
      ]
     },
     "execution_count": 4,
     "metadata": {},
     "output_type": "execute_result"
    }
   ],
   "source": [
    "# taking a look at the contents\n",
    "data.head()"
   ]
  },
  {
   "cell_type": "markdown",
   "id": "ce0fb86e",
   "metadata": {},
   "source": [
    "### Acquire Takeaway\n",
    "- The data was acquired by scaping the starred repos on GitHub number 1001-1009 and then 10010-10060; we chose these specific repos in order to avoid the first ones that mostly included guides and some unfinished products, we also wanted to make sure we had some variety so we pulled some that were further down the list.\n",
    "- We brought in 506 rows initially "
   ]
  },
  {
   "cell_type": "markdown",
   "id": "5ce34056",
   "metadata": {},
   "source": [
    "# Prepare"
   ]
  },
  {
   "cell_type": "code",
   "execution_count": 5,
   "id": "6bd95961",
   "metadata": {},
   "outputs": [
    {
     "data": {
      "text/plain": [
       "repo                0\n",
       "language           54\n",
       "readme_contents     0\n",
       "dtype: int64"
      ]
     },
     "execution_count": 5,
     "metadata": {},
     "output_type": "execute_result"
    }
   ],
   "source": [
    "# Let's check for missing values in the language column\n",
    "data.isna().sum()"
   ]
  },
  {
   "cell_type": "code",
   "execution_count": 6,
   "id": "6e91ed0c",
   "metadata": {},
   "outputs": [],
   "source": [
    "# removed languages that were 'none'\n",
    "data = data.dropna()"
   ]
  },
  {
   "cell_type": "code",
   "execution_count": 7,
   "id": "e415db4a",
   "metadata": {},
   "outputs": [
    {
     "data": {
      "text/plain": [
       "506"
      ]
     },
     "execution_count": 7,
     "metadata": {},
     "output_type": "execute_result"
    }
   ],
   "source": [
    "len(data)"
   ]
  },
  {
   "cell_type": "code",
   "execution_count": 8,
   "id": "ade2b31a",
   "metadata": {},
   "outputs": [
    {
     "data": {
      "text/plain": [
       "JavaScript          141\n",
       "Python               59\n",
       "Java                 46\n",
       "TypeScript           45\n",
       "Go                   36\n",
       "C++                  30\n",
       "C                    20\n",
       "Shell                13\n",
       "Swift                13\n",
       "HTML                 12\n",
       "Rust                 11\n",
       "Kotlin                9\n",
       "Ruby                  9\n",
       "C#                    9\n",
       "PHP                   6\n",
       "Vue                   6\n",
       "Vim script            6\n",
       "Jupyter Notebook      6\n",
       "CSS                   5\n",
       "Objective-C           3\n",
       "TeX                   2\n",
       "CoffeeScript          2\n",
       "Lua                   2\n",
       "Haskell               2\n",
       "Elixir                2\n",
       "Makefile              1\n",
       "Rascal                1\n",
       "Dockerfile            1\n",
       "Emacs Lisp            1\n",
       "AsciiDoc              1\n",
       "Standard ML           1\n",
       "Crystal               1\n",
       "Clojure               1\n",
       "OCaml                 1\n",
       "Batchfile             1\n",
       "Dart                  1\n",
       "Name: language, dtype: int64"
      ]
     },
     "execution_count": 8,
     "metadata": {},
     "output_type": "execute_result"
    }
   ],
   "source": [
    "# Let's see what values we have for each type of language\n",
    "data.language.value_counts()"
   ]
  },
  {
   "cell_type": "code",
   "execution_count": 9,
   "id": "95cae965",
   "metadata": {},
   "outputs": [],
   "source": [
    "# brought the dataset down to those languages that were more than or equal to 30\n",
    "data = data[data['language'].map(data['language'].value_counts()) >= 30]"
   ]
  },
  {
   "cell_type": "code",
   "execution_count": 10,
   "id": "200e8641",
   "metadata": {},
   "outputs": [
    {
     "data": {
      "text/plain": [
       "357"
      ]
     },
     "execution_count": 10,
     "metadata": {},
     "output_type": "execute_result"
    }
   ],
   "source": [
    "# Check out the number of repos we will be examining\n",
    "len(data)"
   ]
  },
  {
   "cell_type": "markdown",
   "id": "55875d39-de23-4b50-882d-d41665551e9a",
   "metadata": {},
   "source": [
    "### Language Counts"
   ]
  },
  {
   "cell_type": "code",
   "execution_count": 11,
   "id": "3c0bf776",
   "metadata": {},
   "outputs": [
    {
     "data": {
      "image/png": "[encoded data removed]",
      "text/plain": [
       "<Figure size 720x720 with 1 Axes>"
      ]
     },
     "metadata": {},
     "output_type": "display_data"
    }
   ],
   "source": [
    "plt.figure(figsize=(10, 10))\n",
    "data.language.hist(align = 'left', color = 'purple', ec = 'k')\n",
    "plt.title('Language Counts')\n",
    "plt.xlabel('Language')\n",
    "plt.ylabel('Count')\n",
    "plt.xticks(rotation = 90)\n",
    "plt.show()"
   ]
  },
  {
   "cell_type": "code",
   "execution_count": 12,
   "id": "3c348ed5",
   "metadata": {},
   "outputs": [
    {
     "data": {
      "text/plain": [
       "repo               0\n",
       "language           0\n",
       "readme_contents    0\n",
       "dtype: int64"
      ]
     },
     "execution_count": 12,
     "metadata": {},
     "output_type": "execute_result"
    }
   ],
   "source": [
    "# Here we checked to make sure all of the null values were removed above by our drop \n",
    "data.isna().sum()"
   ]
  },
  {
   "cell_type": "code",
   "execution_count": 13,
   "id": "882cb01d",
   "metadata": {},
   "outputs": [
    {
     "ename": "KeyboardInterrupt",
     "evalue": "",
     "output_type": "error",
     "traceback": [
      "\u001b[0;31m---------------------------------------------------------------------------\u001b[0m",
      "\u001b[0;31mKeyboardInterrupt\u001b[0m                         Traceback (most recent call last)",
      "\u001b[0;32m<ipython-input-13-9c38870ad3ba>\u001b[0m in \u001b[0;36m<module>\u001b[0;34m\u001b[0m\n\u001b[1;32m      2\u001b[0m \u001b[0;31m# pass lists for extra_words and exclude_words and returns a df with the readme text, original text and stemmed\u001b[0m\u001b[0;34m\u001b[0m\u001b[0;34m\u001b[0m\u001b[0;34m\u001b[0m\u001b[0m\n\u001b[1;32m      3\u001b[0m \u001b[0;31m# text, lemmatized text, cleaned, tokenized, & lemmatized text with stopwords removed.\u001b[0m\u001b[0;34m\u001b[0m\u001b[0;34m\u001b[0m\u001b[0;34m\u001b[0m\u001b[0m\n\u001b[0;32m----> 4\u001b[0;31m \u001b[0mdata\u001b[0m \u001b[0;34m=\u001b[0m \u001b[0mprep_readme_data\u001b[0m\u001b[0;34m(\u001b[0m\u001b[0mdf\u001b[0m\u001b[0;34m=\u001b[0m \u001b[0mdata\u001b[0m\u001b[0;34m,\u001b[0m \u001b[0mcolumn\u001b[0m \u001b[0;34m=\u001b[0m \u001b[0;34m'readme_contents'\u001b[0m\u001b[0;34m,\u001b[0m \u001b[0mextra_words\u001b[0m\u001b[0;34m=\u001b[0m\u001b[0;34m[\u001b[0m\u001b[0;34m'https'\u001b[0m\u001b[0;34m,\u001b[0m\u001b[0;34m'p'\u001b[0m\u001b[0;34m,\u001b[0m\u001b[0;34m'com'\u001b[0m\u001b[0;34m,\u001b[0m\u001b[0;34m'http'\u001b[0m\u001b[0;34m,\u001b[0m\u001b[0;34m'href'\u001b[0m\u001b[0;34m]\u001b[0m\u001b[0;34m,\u001b[0m \u001b[0mexclude_words\u001b[0m\u001b[0;34m=\u001b[0m\u001b[0;34m[\u001b[0m\u001b[0;34m]\u001b[0m\u001b[0;34m)\u001b[0m\u001b[0;34m\u001b[0m\u001b[0;34m\u001b[0m\u001b[0m\n\u001b[0m",
      "\u001b[0;32m~/codeup-data-science/nlp_team_project/prepare.py\u001b[0m in \u001b[0;36mprep_readme_data\u001b[0;34m(df, column, extra_words, exclude_words)\u001b[0m\n\u001b[1;32m    119\u001b[0m                                    exclude_words=exclude_words)\n\u001b[1;32m    120\u001b[0m \u001b[0;34m\u001b[0m\u001b[0m\n\u001b[0;32m--> 121\u001b[0;31m     \u001b[0mdf\u001b[0m\u001b[0;34m[\u001b[0m\u001b[0;34m'lemmatized'\u001b[0m\u001b[0;34m]\u001b[0m \u001b[0;34m=\u001b[0m \u001b[0mdf\u001b[0m\u001b[0;34m[\u001b[0m\u001b[0mcolumn\u001b[0m\u001b[0;34m]\u001b[0m\u001b[0;34m.\u001b[0m\u001b[0mapply\u001b[0m\u001b[0;34m(\u001b[0m\u001b[0mbasic_clean\u001b[0m\u001b[0;34m)\u001b[0m\u001b[0;31m\\\u001b[0m\u001b[0;34m\u001b[0m\u001b[0;34m\u001b[0m\u001b[0m\n\u001b[0m\u001b[1;32m    122\u001b[0m                             \u001b[0;34m.\u001b[0m\u001b[0mapply\u001b[0m\u001b[0;34m(\u001b[0m\u001b[0mtokenize\u001b[0m\u001b[0;34m)\u001b[0m\u001b[0;31m\\\u001b[0m\u001b[0;34m\u001b[0m\u001b[0;34m\u001b[0m\u001b[0m\n\u001b[1;32m    123\u001b[0m                             \u001b[0;34m.\u001b[0m\u001b[0mapply\u001b[0m\u001b[0;34m(\u001b[0m\u001b[0mlemmatize\u001b[0m\u001b[0;34m)\u001b[0m\u001b[0;31m\\\u001b[0m\u001b[0;34m\u001b[0m\u001b[0;34m\u001b[0m\u001b[0m\n",
      "\u001b[0;32m/opt/homebrew/anaconda3/lib/python3.8/site-packages/pandas/core/series.py\u001b[0m in \u001b[0;36mapply\u001b[0;34m(self, func, convert_dtype, args, **kwds)\u001b[0m\n\u001b[1;32m   4136\u001b[0m             \u001b[0;32melse\u001b[0m\u001b[0;34m:\u001b[0m\u001b[0;34m\u001b[0m\u001b[0;34m\u001b[0m\u001b[0m\n\u001b[1;32m   4137\u001b[0m                 \u001b[0mvalues\u001b[0m \u001b[0;34m=\u001b[0m \u001b[0mself\u001b[0m\u001b[0;34m.\u001b[0m\u001b[0mastype\u001b[0m\u001b[0;34m(\u001b[0m\u001b[0mobject\u001b[0m\u001b[0;34m)\u001b[0m\u001b[0;34m.\u001b[0m\u001b[0m_values\u001b[0m\u001b[0;34m\u001b[0m\u001b[0;34m\u001b[0m\u001b[0m\n\u001b[0;32m-> 4138\u001b[0;31m                 \u001b[0mmapped\u001b[0m \u001b[0;34m=\u001b[0m \u001b[0mlib\u001b[0m\u001b[0;34m.\u001b[0m\u001b[0mmap_infer\u001b[0m\u001b[0;34m(\u001b[0m\u001b[0mvalues\u001b[0m\u001b[0;34m,\u001b[0m \u001b[0mf\u001b[0m\u001b[0;34m,\u001b[0m \u001b[0mconvert\u001b[0m\u001b[0;34m=\u001b[0m\u001b[0mconvert_dtype\u001b[0m\u001b[0;34m)\u001b[0m\u001b[0;34m\u001b[0m\u001b[0;34m\u001b[0m\u001b[0m\n\u001b[0m\u001b[1;32m   4139\u001b[0m \u001b[0;34m\u001b[0m\u001b[0m\n\u001b[1;32m   4140\u001b[0m         \u001b[0;32mif\u001b[0m \u001b[0mlen\u001b[0m\u001b[0;34m(\u001b[0m\u001b[0mmapped\u001b[0m\u001b[0;34m)\u001b[0m \u001b[0;32mand\u001b[0m \u001b[0misinstance\u001b[0m\u001b[0;34m(\u001b[0m\u001b[0mmapped\u001b[0m\u001b[0;34m[\u001b[0m\u001b[0;36m0\u001b[0m\u001b[0;34m]\u001b[0m\u001b[0;34m,\u001b[0m \u001b[0mSeries\u001b[0m\u001b[0;34m)\u001b[0m\u001b[0;34m:\u001b[0m\u001b[0;34m\u001b[0m\u001b[0;34m\u001b[0m\u001b[0m\n",
      "\u001b[0;32mpandas/_libs/lib.pyx\u001b[0m in \u001b[0;36mpandas._libs.lib.map_infer\u001b[0;34m()\u001b[0m\n",
      "\u001b[0;32m~/codeup-data-science/nlp_team_project/prepare.py\u001b[0m in \u001b[0;36mbasic_clean\u001b[0;34m(text)\u001b[0m\n\u001b[1;32m     24\u001b[0m     \u001b[0mstopwords\u001b[0m\u001b[0;34m.\u001b[0m\u001b[0mextend\u001b[0m\u001b[0;34m(\u001b[0m\u001b[0mnewStopWords\u001b[0m\u001b[0;34m)\u001b[0m\u001b[0;34m\u001b[0m\u001b[0;34m\u001b[0m\u001b[0m\n\u001b[1;32m     25\u001b[0m     \u001b[0mwords\u001b[0m \u001b[0;34m=\u001b[0m \u001b[0mtext_lemma\u001b[0m\u001b[0;34m.\u001b[0m\u001b[0msplit\u001b[0m\u001b[0;34m(\u001b[0m\u001b[0;34m)\u001b[0m\u001b[0;34m\u001b[0m\u001b[0;34m\u001b[0m\u001b[0m\n\u001b[0;32m---> 26\u001b[0;31m     \u001b[0mfiltered_words\u001b[0m \u001b[0;34m=\u001b[0m \u001b[0;34m[\u001b[0m\u001b[0mw\u001b[0m \u001b[0;32mfor\u001b[0m \u001b[0mw\u001b[0m \u001b[0;32min\u001b[0m \u001b[0mwords\u001b[0m \u001b[0;32mif\u001b[0m \u001b[0mw\u001b[0m \u001b[0;32mnot\u001b[0m \u001b[0;32min\u001b[0m \u001b[0mstopwords\u001b[0m\u001b[0;34m]\u001b[0m\u001b[0;34m\u001b[0m\u001b[0;34m\u001b[0m\u001b[0m\n\u001b[0m\u001b[1;32m     27\u001b[0m     \u001b[0mspeech\u001b[0m \u001b[0;34m=\u001b[0m \u001b[0;34m' '\u001b[0m\u001b[0;34m.\u001b[0m\u001b[0mjoin\u001b[0m\u001b[0;34m(\u001b[0m\u001b[0mfiltered_words\u001b[0m\u001b[0;34m)\u001b[0m\u001b[0;34m\u001b[0m\u001b[0;34m\u001b[0m\u001b[0m\n\u001b[1;32m     28\u001b[0m \u001b[0;34m\u001b[0m\u001b[0m\n",
      "\u001b[0;32m~/codeup-data-science/nlp_team_project/prepare.py\u001b[0m in \u001b[0;36m<listcomp>\u001b[0;34m(.0)\u001b[0m\n\u001b[1;32m     24\u001b[0m     \u001b[0mstopwords\u001b[0m\u001b[0;34m.\u001b[0m\u001b[0mextend\u001b[0m\u001b[0;34m(\u001b[0m\u001b[0mnewStopWords\u001b[0m\u001b[0;34m)\u001b[0m\u001b[0;34m\u001b[0m\u001b[0;34m\u001b[0m\u001b[0m\n\u001b[1;32m     25\u001b[0m     \u001b[0mwords\u001b[0m \u001b[0;34m=\u001b[0m \u001b[0mtext_lemma\u001b[0m\u001b[0;34m.\u001b[0m\u001b[0msplit\u001b[0m\u001b[0;34m(\u001b[0m\u001b[0;34m)\u001b[0m\u001b[0;34m\u001b[0m\u001b[0;34m\u001b[0m\u001b[0m\n\u001b[0;32m---> 26\u001b[0;31m     \u001b[0mfiltered_words\u001b[0m \u001b[0;34m=\u001b[0m \u001b[0;34m[\u001b[0m\u001b[0mw\u001b[0m \u001b[0;32mfor\u001b[0m \u001b[0mw\u001b[0m \u001b[0;32min\u001b[0m \u001b[0mwords\u001b[0m \u001b[0;32mif\u001b[0m \u001b[0mw\u001b[0m \u001b[0;32mnot\u001b[0m \u001b[0;32min\u001b[0m \u001b[0mstopwords\u001b[0m\u001b[0;34m]\u001b[0m\u001b[0;34m\u001b[0m\u001b[0;34m\u001b[0m\u001b[0m\n\u001b[0m\u001b[1;32m     27\u001b[0m     \u001b[0mspeech\u001b[0m \u001b[0;34m=\u001b[0m \u001b[0;34m' '\u001b[0m\u001b[0;34m.\u001b[0m\u001b[0mjoin\u001b[0m\u001b[0;34m(\u001b[0m\u001b[0mfiltered_words\u001b[0m\u001b[0;34m)\u001b[0m\u001b[0;34m\u001b[0m\u001b[0;34m\u001b[0m\u001b[0m\n\u001b[1;32m     28\u001b[0m \u001b[0;34m\u001b[0m\u001b[0m\n",
      "\u001b[0;31mKeyboardInterrupt\u001b[0m: "
     ]
    }
   ],
   "source": [
    "# Next we use our prep function that takes in a df and the string name for a text column with the option to \n",
    "# pass lists for extra_words and exclude_words and returns a df with the readme text, original text and stemmed \n",
    "# text, lemmatized text, cleaned, tokenized, & lemmatized text with stopwords removed.\n",
    "data = prep_readme_data(df= data, column = 'readme_contents', extra_words=['https','p','com','http','href'], exclude_words=[])"
   ]
  },
  {
   "cell_type": "code",
   "execution_count": null,
   "id": "39869da4",
   "metadata": {},
   "outputs": [],
   "source": [
    "# At this point we dropped the original contents since we had it in all the forms we need for exploration and \n",
    "# modeling\n",
    "data = data.drop(columns = ['readme_contents'])"
   ]
  },
  {
   "cell_type": "code",
   "execution_count": null,
   "id": "6e104afa",
   "metadata": {},
   "outputs": [],
   "source": [
    "# This function gives us message length, word count and average word length added as columns to the df\n",
    "data = get_columns(data)"
   ]
  },
  {
   "cell_type": "code",
   "execution_count": null,
   "id": "aaf47c86",
   "metadata": {},
   "outputs": [],
   "source": [
    "# Here we made a column named is_javascript to hold all rows that the language column indicated were javascript\n",
    "data['is_javascript'] = data.apply(lambda row: is_javascript(row), axis=1)"
   ]
  },
  {
   "cell_type": "code",
   "execution_count": null,
   "id": "30f13d7b",
   "metadata": {},
   "outputs": [],
   "source": [
    "# And here we made a column named sentiment to tell us the aggregate sentiment of the \n",
    "# text of each readme\n",
    "data['sentiment'] = data.clean.apply(lambda doc: sia.polarity_scores(doc)['compound'])"
   ]
  },
  {
   "cell_type": "code",
   "execution_count": null,
   "id": "2b124496",
   "metadata": {},
   "outputs": [],
   "source": [
    "# Taking a look at the modified data\n",
    "data"
   ]
  },
  {
   "cell_type": "code",
   "execution_count": null,
   "id": "5c24f235",
   "metadata": {},
   "outputs": [],
   "source": [
    "# Splitting our data for exploration\n",
    "train, test = train_test_split(data, train_size = 0.8, random_state = 123, stratify=data.is_javascript)"
   ]
  },
  {
   "cell_type": "markdown",
   "id": "f1b58a57",
   "metadata": {},
   "source": [
    "### Takeaways\n",
    "- In the stage of the pipeline we checked for null values and dropped all rows missing a value in the language column since we had more than enough rows without the 54 that we ended up dropping here\n",
    "- We then looked at the value counts for each language and decided to drop all the languages that contained less than 30 readme's because we didnt want there to be a problem stratifying the sparse languages in each section of the split dataset\n",
    "- The next step was to use our prep function stored in the prepare file that takes in a df and the string name for a text column with the option to pass lists for extra_words and exclude_words and returns a df with the readme text, cleaned text, stemmed text, lemmatized text, with stopwords removed from all columns.\n",
    "- Next we removed the readme_contents column since we had no more use for it in explore or modeling\n",
    "- We then used the get_columns function to give us message length, word count and average word length added as columns to the df\n",
    "- We also created two columns named is_javascript to hold all rows that the language column indicated were javascript and a sentiment column to tell us the aggregate sentiment of the text of each readme\n",
    "- Split our data on train and test\n"
   ]
  },
  {
   "cell_type": "markdown",
   "id": "457453c1",
   "metadata": {},
   "source": [
    "# Explore "
   ]
  },
  {
   "cell_type": "markdown",
   "id": "8d4d9d94",
   "metadata": {},
   "source": [
    "- We know that JavaScript makes up near 40% of the readme with the other 60% being non JavaScript"
   ]
  },
  {
   "cell_type": "code",
   "execution_count": null,
   "id": "9001cc65",
   "metadata": {},
   "outputs": [],
   "source": [
    "# Let's look at the language of each readme by percentage\n",
    "train.language.value_counts(normalize = True)"
   ]
  },
  {
   "cell_type": "code",
   "execution_count": null,
   "id": "779cb587",
   "metadata": {},
   "outputs": [],
   "source": [
    "# Taking a lookt at the number of readme's by language after the modifications in prepare\n",
    "train.language.value_counts()"
   ]
  },
  {
   "cell_type": "code",
   "execution_count": null,
   "id": "794e8e6f",
   "metadata": {},
   "outputs": [],
   "source": [
    "# Displaying the index dtype and columns, non-null values and memory usage\n",
    "train.info()"
   ]
  },
  {
   "cell_type": "code",
   "execution_count": null,
   "id": "6f301984",
   "metadata": {},
   "outputs": [],
   "source": [
    "# Generate descriptive statistics\n",
    "train.describe()"
   ]
  },
  {
   "cell_type": "code",
   "execution_count": null,
   "id": "a6e594bb",
   "metadata": {},
   "outputs": [],
   "source": [
    "# combine all messages in single string by label\n",
    "JavaScript_words = clean(' '.join(train[train.language == 'JavaScript'].stemmed))\n",
    "Python_words = clean(' '.join(train[train.language == 'Python'].stemmed))\n",
    "TS_words = clean(' '.join(train[train.language == 'TypeScript'].stemmed))\n",
    "Java_words = clean(' '.join(train[train.language == 'Java'].stemmed))\n",
    "Go_words = clean(' '.join(train[train.language == 'Go'].stemmed))\n",
    "C_words = clean(' '.join(train[train.language == 'C++'].stemmed))\n",
    "Non_JavaScript = clean(' '.join(train[train.language != 'JavaScript'].stemmed))\n",
    "all_words = clean(' '.join(train.stemmed))"
   ]
  },
  {
   "cell_type": "markdown",
   "id": "6784536f",
   "metadata": {},
   "source": [
    "# making a df for each language \n",
    "js_df = data[data.language == 'JavaScript']\n",
    "python_df = data[data.language == 'Python']\n",
    "java_df = data[data.language == 'Java']\n",
    "ts_df = data[data.language == 'TypeScript']\n",
    "go_df = data[data.language == 'Go']\n",
    "c_df = data[data.language == 'C++']"
   ]
  },
  {
   "cell_type": "code",
   "execution_count": null,
   "id": "a532dd88",
   "metadata": {},
   "outputs": [],
   "source": [
    "# Looking at the frequency of word that appeared in the TypeScript readme\n",
    "TS_freq = pd.Series(TS_words.split()).value_counts()\n",
    "TS_freq"
   ]
  },
  {
   "cell_type": "code",
   "execution_count": null,
   "id": "2a19c23b",
   "metadata": {},
   "outputs": [],
   "source": [
    "#Represent text as word frequencies\n",
    "JavaScript_freq = pd.Series(JavaScript_words.split()).value_counts()\n",
    "Python_freq = pd.Series(Python_words.split()).value_counts()\n",
    "Java_freq = pd.Series(Java_words.split()).value_counts()\n",
    "Go_freq = pd.Series(Go_words.split()).value_counts()\n",
    "C_freq = pd.Series(C_words.split()).value_counts()\n",
    "TS_freq = pd.Series(TS_words.split()).value_counts()\n",
    "non_JavaScript_freq = pd.Series(Non_JavaScript.split()).value_counts()\n",
    "all_words_freq = pd.Series(all_words.split()).value_counts()"
   ]
  },
  {
   "cell_type": "code",
   "execution_count": null,
   "id": "64338abf",
   "metadata": {},
   "outputs": [],
   "source": [
    "# Created a dataframe of the word frequencies as they occurred above to include grand totals\n",
    "word_counts = pd.concat([JavaScript_freq, Python_freq, Java_freq, Go_freq, C_freq, TS_freq,non_JavaScript_freq, all_words_freq], axis = 1).fillna(0).astype(int)\n",
    "word_counts.columns = ['javascript','python','java','go','c','ts','NonJS','all']\n",
    "word_counts.head()"
   ]
  },
  {
   "cell_type": "code",
   "execution_count": null,
   "id": "86e36237",
   "metadata": {},
   "outputs": [],
   "source": [
    "# Here we put them in order from highest to lowest occurrences by total count in the all column\n",
    "word_counts.sort_values('all', ascending = False).head(20)"
   ]
  },
  {
   "cell_type": "code",
   "execution_count": null,
   "id": "5ec1c795",
   "metadata": {},
   "outputs": [],
   "source": [
    "# Then we just sorted by NonJS and javascript columns only\n",
    "word_counts.sort_values(['NonJS','javascript'],ascending = [True,False]).head(20)\n"
   ]
  },
  {
   "cell_type": "code",
   "execution_count": null,
   "id": "5332bec8",
   "metadata": {},
   "outputs": [],
   "source": [
    "# Here we sorted by javascript and then NonJS\n",
    "word_counts.sort_values(['javascript','NonJS'],ascending = [True,False]).head(20)"
   ]
  },
  {
   "cell_type": "markdown",
   "id": "ee3b7a93-ab68-42b7-bdfd-1a688cd478d8",
   "metadata": {},
   "source": [
    "## Top 20"
   ]
  },
  {
   "cell_type": "code",
   "execution_count": null,
   "id": "4babdf4f",
   "metadata": {
    "tags": []
   },
   "outputs": [],
   "source": [
    "# Displayed the 20 most frequent word list by Non Javascript vs JavaScript\n",
    "plt.rc('font', size=16)\n",
    "word_counts.sort_values('NonJS', ascending=False).head(20)[['javascript','NonJS']].plot.barh(stacked = True, ec = 'k')#stacked and added bar border\n",
    "plt.title('Top 20 Most Frequent Word List: Non JavaScript vs JavaScript')\n",
    "plt.xlabel('Word Count')\n",
    "plt.ylabel('Word')\n",
    "plt.legend(['JavaScript', 'Non JavaScript'], fontsize = 15)\n",
    "plt.show()"
   ]
  },
  {
   "cell_type": "code",
   "execution_count": null,
   "id": "c5bb2033",
   "metadata": {},
   "outputs": [],
   "source": [
    "# Displayed the 20 most frequent word list by Javascript vs Non JavaScript\n",
    "plt.rc('font', size=16)\n",
    "word_counts.sort_values('javascript', ascending=False).head(20)[['javascript','NonJS']].plot.barh(stacked = True, ec = 'k')#stacked and added bar border\n",
    "plt.title('Top 20 Most Frequent Word List: JavaScript vs Non JavaScript')\n",
    "plt.xlabel('Word Count')\n",
    "plt.ylabel('Word')\n",
    "plt.legend(['JavaScript', 'Non JavaScript'], fontsize = 15)\n",
    "plt.show()"
   ]
  },
  {
   "cell_type": "markdown",
   "id": "463d5c18-2ec5-4810-8257-325d74c84d82",
   "metadata": {},
   "source": [
    "## Top 20 Distribution"
   ]
  },
  {
   "cell_type": "code",
   "execution_count": null,
   "id": "875327f9",
   "metadata": {},
   "outputs": [],
   "source": [
    "# Plotted the distribution percentages per word by language\n",
    "plt.figure(figsize=(16, 9))\n",
    "plt.rc('font', size=15)\n",
    "\n",
    "(word_counts.sort_values('all', ascending=False)\n",
    " .head(20)\n",
    " .apply(lambda row: row/row['all'], axis = 1)\n",
    " .drop(columns = 'all')\n",
    " .sort_values(by = 'javascript')\n",
    " .plot.barh(stacked = True, width = 1, ec = 'k')\n",
    ")\n",
    "plt.title('Top 20 Distribution Percentage per Word')\n",
    "plt.xlabel('Distribution Percentage')\n",
    "plt.ylabel('Word')\n",
    "plt.legend(['JavaScript', 'Python', 'Java', 'Go', 'C', 'TS', 'Non JavaScript'])\n",
    "plt.show()"
   ]
  },
  {
   "cell_type": "markdown",
   "id": "e841743c-d30f-43fa-9c53-64f13bb7b131",
   "metadata": {},
   "source": [
    "## Bigrams"
   ]
  },
  {
   "cell_type": "code",
   "execution_count": null,
   "id": "d59fe4d2",
   "metadata": {
    "tags": []
   },
   "outputs": [],
   "source": [
    "# Plotted the top 10 JavaScript bigrams\n",
    "pd.Series(nltk.bigrams(JavaScript_words.split())).value_counts().head(10).plot.barh(color = 'blue',ec = 'k')\n",
    "plt.title('Top 10 JavaScript bigrams')\n",
    "plt.xlabel('Count')\n",
    "plt.ylabel('bigrams')\n",
    "plt.show()"
   ]
  },
  {
   "cell_type": "code",
   "execution_count": null,
   "id": "103bc9a4",
   "metadata": {},
   "outputs": [],
   "source": [
    "# Displaying the top Java bigrams\n",
    "pd.Series(nltk.bigrams(Java_words.split())).value_counts().head(10).plot.barh(color = 'green',ec = 'k')#change bar color to reflect stacked chart above and outline\n",
    "plt.title('Top 10 Java bigrams')\n",
    "plt.xlabel('Count')\n",
    "plt.ylabel('bigrams')\n",
    "plt.show()"
   ]
  },
  {
   "cell_type": "code",
   "execution_count": null,
   "id": "dcd815db",
   "metadata": {},
   "outputs": [],
   "source": [
    "# Plotting the top 10 bigrams\n",
    "pd.Series(nltk.bigrams(Python_words.split())).value_counts().head(10).plot.barh(color = 'orange',ec = 'k')#change bar color to reflect stacked chart above and outline\n",
    "plt.title('Top 10 Python bigrams')\n",
    "plt.xlabel('Count')\n",
    "plt.ylabel('bigrams')\n",
    "plt.show()"
   ]
  },
  {
   "cell_type": "code",
   "execution_count": null,
   "id": "3ff290c5",
   "metadata": {
    "tags": []
   },
   "outputs": [],
   "source": [
    "# Displaying the top 10 Non JavaScipt bigrams\n",
    "pd.Series(nltk.bigrams(Non_JavaScript.split())).value_counts().head(10).plot.barh(color = 'pink',ec = 'k',)\n",
    "plt.title('Top 10 Non JavaScript bigrams')\n",
    "plt.xlabel('Count')\n",
    "plt.ylabel('bigrams')\n",
    "plt.show()"
   ]
  },
  {
   "cell_type": "markdown",
   "id": "bdf3e2c1-f3a0-4f1f-8e6e-e0e1c89d1b04",
   "metadata": {},
   "source": [
    "## Clouds"
   ]
  },
  {
   "cell_type": "code",
   "execution_count": null,
   "id": "9f429c6f",
   "metadata": {},
   "outputs": [],
   "source": [
    "# Creating a wordcloud for JavaScript words\n",
    "img = WordCloud(background_color='white', width=800, height=600).generate(JavaScript_words)\n",
    "plt.title('JavaScript Wordcloud')\n",
    "plt.imshow(img)\n",
    "plt.axis('off')\n",
    "plt.show()"
   ]
  },
  {
   "cell_type": "code",
   "execution_count": null,
   "id": "bcd771f6",
   "metadata": {},
   "outputs": [],
   "source": [
    "# Displaying a Non JavaScript wordcloud\n",
    "img = WordCloud(background_color='white', width=800, height=600).generate(Non_JavaScript)\n",
    "plt.title('Non JavaScript Wordcloud')\n",
    "plt.imshow(img)\n",
    "plt.axis('off')\n",
    "plt.show()"
   ]
  },
  {
   "cell_type": "markdown",
   "id": "c952b194-d092-4588-8209-401e9e0c597e",
   "metadata": {},
   "source": [
    "## Relational Plots"
   ]
  },
  {
   "cell_type": "markdown",
   "id": "34789ca0-164d-4eb4-afcb-66f57ec9a18a",
   "metadata": {},
   "source": [
    "### Language Relationships"
   ]
  },
  {
   "cell_type": "code",
   "execution_count": null,
   "id": "ffd4a8ed",
   "metadata": {
    "tags": []
   },
   "outputs": [],
   "source": [
    "# Created a relpot to display word count to message length relationship between languages\n",
    "plot = sns.relplot(data = train, x = 'message_length', y = 'word_count', hue = 'language', height = 8, aspect = 1.5)\n",
    "plot.set(ylim=(0, 4000))\n",
    "plot.set(xlim=(0,50000))\n",
    "plt.title('Word Count to Message Length Relationship Between Languages')\n",
    "plt.xlabel('Message Length')\n",
    "plt.ylabel('Word Count')\n",
    "plt.show()"
   ]
  },
  {
   "cell_type": "markdown",
   "id": "4c948dde-652a-4122-bb1d-72880479b509",
   "metadata": {},
   "source": [
    "#### Language Narrowed in Limits"
   ]
  },
  {
   "cell_type": "code",
   "execution_count": null,
   "id": "5a3a586b",
   "metadata": {
    "tags": []
   },
   "outputs": [],
   "source": [
    "# A closer look at the above visualization\n",
    "plot = sns.relplot(data = train, x = 'message_length', y = 'word_count', hue = 'language', height = 8, aspect = 1.5)\n",
    "plot.set(ylim=(0, 1000))\n",
    "plot.set(xlim=(0,15000))\n",
    "plt.title('Word Count to Message Length Relationship Between Languages')\n",
    "plt.xlabel('Message Length')\n",
    "plt.ylabel('Word Count')\n",
    "plt.show()"
   ]
  },
  {
   "cell_type": "markdown",
   "id": "1468f385-ef7e-4e13-afd8-2ec02a6cc209",
   "metadata": {},
   "source": [
    "### JavaScript Relationships"
   ]
  },
  {
   "cell_type": "code",
   "execution_count": null,
   "id": "736025ad",
   "metadata": {
    "tags": []
   },
   "outputs": [],
   "source": [
    "# Creating a relplot to display word count to message length relationship whether or not language is Javascript\n",
    "plot = sns.relplot(data = train, x = 'message_length', y = 'word_count', hue = 'is_javascript', height = 8, aspect = 1.5)\n",
    "plot.set(ylim=(0, 1000))\n",
    "plot.set(xlim=(0,15000))\n",
    "plt.title('Word Count to Message Length Relationship Whether or Not Language is Javascript')\n",
    "plt.xlabel('Message Length')\n",
    "plt.ylabel('Word Count')\n",
    "plt.show()"
   ]
  },
  {
   "cell_type": "markdown",
   "id": "e5b60f66-6478-49bd-9030-64a1b3324e57",
   "metadata": {},
   "source": [
    "#### Is_JavaScript Narrowed in limits"
   ]
  },
  {
   "cell_type": "code",
   "execution_count": null,
   "id": "c30ef560",
   "metadata": {
    "tags": []
   },
   "outputs": [],
   "source": [
    "# A closer look at the above visualization\n",
    "plot = sns.relplot(data = train, x = 'message_length', y = 'word_count', hue = 'is_javascript', height = 8, aspect = 1.5)\n",
    "plot.set(ylim=(0, 4000))\n",
    "plot.set(xlim=(0,50000))\n",
    "plt.title('Word Count to Message Length Relationship Whether or Not Language is Javascript')\n",
    "plt.xlabel('Message Length')\n",
    "plt.ylabel('Word Count')\n",
    "plt.show()"
   ]
  },
  {
   "cell_type": "markdown",
   "id": "c38241b0-9589-4be5-9f76-33623928f69a",
   "metadata": {},
   "source": [
    "### Average Word Relationships"
   ]
  },
  {
   "cell_type": "code",
   "execution_count": null,
   "id": "44d82859",
   "metadata": {
    "tags": []
   },
   "outputs": [],
   "source": [
    "# Creating a replot of word count to message length with a hue of languages\n",
    "plot = sns.relplot(data = train, x = 'avg_word_length', y = 'word_count', hue = 'language', height = 8, aspect = 1.5)\n",
    "plot.set(ylim=(0, 4000))\n",
    "plot.set(xlim=(5,40))\n",
    "plt.title('Word Count to Message Length Relationship Between Languages')\n",
    "plt.xlabel('Average Word Length')\n",
    "plt.ylabel('Word Count')\n",
    "plt.show()"
   ]
  },
  {
   "cell_type": "markdown",
   "id": "bc86d655-5f31-4b72-84a7-c01eaf7ea5fc",
   "metadata": {},
   "source": [
    "#### Average Narrowed in Limits"
   ]
  },
  {
   "cell_type": "code",
   "execution_count": null,
   "id": "1bd523d7",
   "metadata": {
    "tags": []
   },
   "outputs": [],
   "source": [
    "# Creating a relplot of word count to message length with a hue of languages\n",
    "plot = sns.relplot(data = train, x = 'avg_word_length', y = 'word_count', hue = 'language', height = 8, aspect = 1.5)\n",
    "plot.set(ylim=(0, 5000))\n",
    "plot.set(xlim=(6,15))\n",
    "plt.title('Word Count to Message Length Relationship Between Languages')\n",
    "plt.xlabel('Average Word Length')\n",
    "plt.ylabel('Word Count')\n",
    "plt.show()"
   ]
  },
  {
   "cell_type": "code",
   "execution_count": null,
   "id": "b92e7562",
   "metadata": {},
   "outputs": [],
   "source": [
    "# Here we displayed the median and mean of message length, word count and sentiment in a df\n",
    "train.groupby('language')['message_length','word_count','sentiment'].agg(['mean','median'])"
   ]
  },
  {
   "cell_type": "code",
   "execution_count": null,
   "id": "c81c62cd",
   "metadata": {
    "scrolled": true
   },
   "outputs": [],
   "source": [
    "# Next we grouped by whether or not they were Javascript or not\n",
    "train.groupby('is_javascript').agg(['mean','median'])"
   ]
  },
  {
   "cell_type": "markdown",
   "id": "fd2f6730-e1be-4547-94a5-9fdfe2e380cc",
   "metadata": {},
   "source": [
    "## Sentiment Values"
   ]
  },
  {
   "cell_type": "code",
   "execution_count": null,
   "id": "54aee45d",
   "metadata": {},
   "outputs": [],
   "source": [
    "# This is plot of the compound aggregate sentiment by language\n",
    "sns.barplot(data = train, x = 'sentiment', y = 'language', hue = 'is_javascript')\n",
    "plt.title('Sentiment Values')\n",
    "plt.xlabel('Sentiment')\n",
    "plt.ylabel('Language')\n",
    "plt.legend(loc = 'upper right', title = 'Language')\n",
    "plt.show()"
   ]
  },
  {
   "cell_type": "markdown",
   "id": "0cefd56b",
   "metadata": {},
   "source": [
    "### Takeways\n",
    "- We know that JavaScript makes up near 40% of the readme's with the other 60% being non JavaScript\n",
    "- JS takes up 40%\n",
    "- Top 5 JS - use, javascript, j, function, file\n",
    "- Top 5 Non JS - use, opensourc, instal, file, softwareoss\n",
    "- Top 3 JS bigrams are (api, version), (j, const), (nom, instal)\n",
    "- Top 3 NJS bigrams are (opensourc, softwareoss), ( open, source), (1,2) \n",
    "- JS Wordclouds top 3 use, file, JavaScript \n",
    "- NJS wc t3 most common use, opensourc, softwareoss\n",
    "- Average word length\n",
    "- AVG JS is 885\n",
    "- Avg NJS is 779\n",
    "- AVG JS Sentiment 86%\n",
    "- AVG NJS Sentiment 79%"
   ]
  },
  {
   "cell_type": "markdown",
   "id": "c6c93ba0",
   "metadata": {},
   "source": [
    "# Modeling"
   ]
  },
  {
   "cell_type": "code",
   "execution_count": null,
   "id": "a723ef84",
   "metadata": {},
   "outputs": [],
   "source": [
    "# Bag of words\n",
    "cv = CountVectorizer()\n",
    "bag_of_words = cv.fit_transform(data.clean)"
   ]
  },
  {
   "cell_type": "code",
   "execution_count": null,
   "id": "ad0d0d95",
   "metadata": {},
   "outputs": [],
   "source": [
    "bag_of_words.todense()"
   ]
  },
  {
   "cell_type": "code",
   "execution_count": null,
   "id": "510d1276",
   "metadata": {},
   "outputs": [],
   "source": [
    "pprint(data)"
   ]
  },
  {
   "cell_type": "code",
   "execution_count": null,
   "id": "4352d327",
   "metadata": {},
   "outputs": [],
   "source": [
    "# TFIDF \n",
    "tfidf = TfidfVectorizer()\n",
    "bag_of_words = tfidf.fit_transform(data.clean)\n",
    "\n",
    "pd.DataFrame(bag_of_words.todense(), columns=tfidf.get_feature_names()).sample(20)"
   ]
  },
  {
   "cell_type": "code",
   "execution_count": null,
   "id": "609095e9",
   "metadata": {},
   "outputs": [],
   "source": [
    "pd.Series(dict(zip(tfidf.get_feature_names(), tfidf.idf_))).sort_values()"
   ]
  },
  {
   "cell_type": "code",
   "execution_count": null,
   "id": "9592dbc6",
   "metadata": {},
   "outputs": [],
   "source": [
    "# Establishing our baseline on train\n",
    "train.is_javascript.value_counts(normalize = True)"
   ]
  },
  {
   "cell_type": "markdown",
   "id": "5947b937",
   "metadata": {},
   "source": [
    "We chose to go with mode of our 'is_javascript' target variable to get our baseline"
   ]
  },
  {
   "cell_type": "code",
   "execution_count": null,
   "id": "4984e45d",
   "metadata": {},
   "outputs": [],
   "source": [
    "# Baseline: ~60.5"
   ]
  },
  {
   "cell_type": "code",
   "execution_count": null,
   "id": "3a9506ef",
   "metadata": {},
   "outputs": [],
   "source": [
    "# Using Clean, Stemmed, lemmatized data on a MultinomialNB, and DecisionTreeClassifier."
   ]
  },
  {
   "cell_type": "code",
   "execution_count": null,
   "id": "6005c475",
   "metadata": {},
   "outputs": [],
   "source": [
    "# Getting the cleaned data\n",
    "X = data\n",
    "y = 'is_javascript'\n",
    "\n",
    "X_train_clean, X_train_stemmed, X_train_lemmatized, y_train, X_test_clean, X_test_stemmed, X_test_lemmatized, y_test = data_split(X, y)"
   ]
  },
  {
   "cell_type": "code",
   "execution_count": null,
   "id": "197e61dc",
   "metadata": {},
   "outputs": [],
   "source": [
    "# Cleaned data with a MultinomialNB and a count vectorizer\n",
    "cv = CountVectorizer()\n",
    "X_bow = cv.fit_transform(X_train_clean)\n",
    "clf = MultinomialNB(alpha=.01)\n",
    "clf.fit(X_bow, y_train)\n",
    "\n",
    "clf.score(X_bow, y_train)"
   ]
  },
  {
   "cell_type": "code",
   "execution_count": null,
   "id": "a3048356",
   "metadata": {},
   "outputs": [],
   "source": [
    "# Cleaned data with a MultinomialNB and a TfidfVectorizer\n",
    "tfidf = TfidfVectorizer()\n",
    "X_tfidf = tfidf.fit_transform(X_train_clean)\n",
    "clf = MultinomialNB(alpha=.01)\n",
    "clf.fit(X_tfidf, y_train)\n",
    "\n",
    "clf.score(X_tfidf, y_train)"
   ]
  },
  {
   "cell_type": "code",
   "execution_count": null,
   "id": "6e35502b",
   "metadata": {},
   "outputs": [],
   "source": [
    "# Cleaned data with a Decision Tree classifier and a count vectorizer\n",
    "cv = CountVectorizer()\n",
    "X_bow = cv.fit_transform(X_train_clean)\n",
    "tree = DecisionTreeClassifier(max_depth=5)\n",
    "tree.fit(X_bow, y_train)\n",
    "\n",
    "tree.score(X_bow, y_train)"
   ]
  },
  {
   "cell_type": "code",
   "execution_count": null,
   "id": "cf5fc1eb",
   "metadata": {},
   "outputs": [],
   "source": [
    "# Cleaned data with a Decision Tree classifier and a TfidfVectorizer\n",
    "tfidf = TfidfVectorizer()\n",
    "X_tfidf = tfidf.fit_transform(X_train_clean)\n",
    "tree.fit(X_tfidf,y_train)\n",
    "tree.score(X_tfidf,y_train)"
   ]
  },
  {
   "cell_type": "code",
   "execution_count": null,
   "id": "9b934093",
   "metadata": {},
   "outputs": [],
   "source": [
    "# Stemmed data with a MultinomialNB and a count vectorizer\n",
    "cv = CountVectorizer()\n",
    "X_bow = cv.fit_transform(X_train_stemmed)\n",
    "clf = MultinomialNB(alpha=.01)\n",
    "clf.fit(X_bow, y_train)\n",
    "\n",
    "clf.score(X_bow, y_train)"
   ]
  },
  {
   "cell_type": "code",
   "execution_count": null,
   "id": "27e44008",
   "metadata": {},
   "outputs": [],
   "source": [
    "# Stemmed data with a MultinomialNB and a TfidfVectorizer\n",
    "tfidf = TfidfVectorizer()\n",
    "X_tfidf = tfidf.fit_transform(X_train_stemmed)\n",
    "clf = MultinomialNB(alpha=.01)\n",
    "clf.fit(X_tfidf, y_train)\n",
    "\n",
    "clf.score(X_tfidf, y_train)"
   ]
  },
  {
   "cell_type": "code",
   "execution_count": null,
   "id": "cd4a1d2d",
   "metadata": {},
   "outputs": [],
   "source": [
    "# Stemmed data with a Decision Tree classifier and a count vectorizer\n",
    "cv = CountVectorizer()\n",
    "X_bow = cv.fit_transform(X_train_stemmed)\n",
    "tree = DecisionTreeClassifier(max_depth=5)\n",
    "tree.fit(X_bow, y_train)\n",
    "\n",
    "tree.score(X_bow, y_train)"
   ]
  },
  {
   "cell_type": "code",
   "execution_count": null,
   "id": "03af9bc8",
   "metadata": {},
   "outputs": [],
   "source": [
    "# Stemmed data with a Decision Tree classifier and a TfidfVectorizer\n",
    "tfidf = TfidfVectorizer()\n",
    "X_tfidf = tfidf.fit_transform(X_train_stemmed)\n",
    "tree.fit(X_tfidf,y_train)\n",
    "tree.score(X_tfidf,y_train)"
   ]
  },
  {
   "cell_type": "code",
   "execution_count": null,
   "id": "d9ef0cd1",
   "metadata": {},
   "outputs": [],
   "source": [
    "# Lemmatized data with a MultinomialNB and a count vectorizer\n",
    "cv = CountVectorizer()\n",
    "X_bow = cv.fit_transform(X_train_lemmatized)\n",
    "clf = MultinomialNB(alpha=.01)\n",
    "clf.fit(X_bow, y_train)\n",
    "\n",
    "clf.score(X_bow, y_train)"
   ]
  },
  {
   "cell_type": "code",
   "execution_count": null,
   "id": "74c07c56",
   "metadata": {},
   "outputs": [],
   "source": [
    "# Lemmatized data with a MultinomialNB and a TfidfVectorizer\n",
    "tfidf = TfidfVectorizer()\n",
    "X_tfidf = tfidf.fit_transform(X_train_lemmatized)\n",
    "clf = MultinomialNB(alpha=.01)\n",
    "clf.fit(X_tfidf, y_train)\n",
    "\n",
    "clf.score(X_tfidf, y_train)"
   ]
  },
  {
   "cell_type": "code",
   "execution_count": null,
   "id": "71fe2ca2",
   "metadata": {},
   "outputs": [],
   "source": [
    "# Lemmatized data with a Decision Tree classifier and a count vectorizer\n",
    "cv = CountVectorizer()\n",
    "X_bow = cv.fit_transform(X_train_lemmatized)\n",
    "tree = DecisionTreeClassifier(max_depth=5)\n",
    "tree.fit(X_bow, y_train)\n",
    "\n",
    "tree.score(X_bow, y_train)"
   ]
  },
  {
   "cell_type": "code",
   "execution_count": null,
   "id": "9105dd62",
   "metadata": {},
   "outputs": [],
   "source": [
    "# Lemmatized data with a Decision Tree classifier and a TfidfVectorizer\n",
    "tfidf = TfidfVectorizer()\n",
    "X_tfidf = tfidf.fit_transform(X_train_lemmatized)\n",
    "tree.fit(X_tfidf,y_train)\n",
    "tree.score(X_tfidf,y_train)"
   ]
  },
  {
   "cell_type": "code",
   "execution_count": null,
   "id": "9660bb0f",
   "metadata": {},
   "outputs": [],
   "source": [
    "tree.score(tfidf.transform(X_test_clean), y_test)"
   ]
  },
  {
   "cell_type": "code",
   "execution_count": null,
   "id": "82008ab0",
   "metadata": {},
   "outputs": [],
   "source": [
    "predictions = make_predictions(clf,X_train_clean,X_test_clean,y_train)"
   ]
  },
  {
   "cell_type": "code",
   "execution_count": null,
   "id": "2ed3eecf",
   "metadata": {},
   "outputs": [],
   "source": [
    "# uses count vectorization on the cleaned data and makes a model report on the test predictions using a multinomialNB\n",
    "model_report(y_test, predictions)"
   ]
  },
  {
   "cell_type": "markdown",
   "id": "d22000c9",
   "metadata": {},
   "source": [
    "### Takeaways\n",
    "- Our best model was a Multinomial Naive Bayes model using count vectorization that performed with an accuracy of 81.94% on unseen data, beating our baseline by 21.44%"
   ]
  },
  {
   "cell_type": "markdown",
   "id": "560c7d2f",
   "metadata": {},
   "source": [
    "# Conclusion"
   ]
  },
  {
   "cell_type": "markdown",
   "id": "83743a6a",
   "metadata": {},
   "source": [
    "Most of our conclusions were drawn in the exploration phase where we saw differences in distribution of words amongst the different programming languages. We also saw differences in the bigrams for different languages, but decided the most common words would be more useful during modeling."
   ]
  }
 ],
 "metadata": {
  "kernelspec": {
   "display_name": "Python 3",
   "language": "python",
   "name": "python3"
  },
  "language_info": {
   "codemirror_mode": {
    "name": "ipython",
    "version": 3
   },
   "file_extension": ".py",
   "mimetype": "text/x-python",
   "name": "python",
   "nbconvert_exporter": "python",
   "pygments_lexer": "ipython3",
   "version": "3.8.8"
  }
 },
 "nbformat": 4,
 "nbformat_minor": 5
}

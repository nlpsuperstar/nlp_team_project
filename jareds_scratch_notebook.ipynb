{
 "cells": [
  {
   "cell_type": "code",
   "execution_count": 70,
   "id": "137a7547",
   "metadata": {},
   "outputs": [],
   "source": [
    "import pandas as pd\n",
    "import seaborn as sns\n",
    "import matplotlib.pyplot as plt\n",
    "import requests\n",
    "from bs4 import BeautifulSoup\n",
    "import re\n",
    "from time import strftime\n",
    "from time import sleep\n",
    "import warnings\n",
    "warnings.filterwarnings(\"ignore\")\n",
    "import json\n",
    "import unicodedata\n",
    "import re\n",
    "\n",
    "import nltk\n",
    "from nltk.tokenize.toktok import ToktokTokenizer\n",
    "from nltk.corpus import stopwords\n",
    "\n",
    "import pandas as pd\n",
    "import acquire\n",
    "from prepare import *"
   ]
  },
  {
   "cell_type": "code",
   "execution_count": 71,
   "id": "39cb67db",
   "metadata": {},
   "outputs": [],
   "source": [
    "data = pd.read_json('data.json')"
   ]
  },
  {
   "cell_type": "code",
   "execution_count": 72,
   "id": "f3060341",
   "metadata": {},
   "outputs": [],
   "source": [
    "data = data.dropna()"
   ]
  },
  {
   "cell_type": "code",
   "execution_count": 73,
   "id": "e8e508f3",
   "metadata": {},
   "outputs": [
    {
     "data": {
      "text/html": [
       "<div>\n",
       "<style scoped>\n",
       "    .dataframe tbody tr th:only-of-type {\n",
       "        vertical-align: middle;\n",
       "    }\n",
       "\n",
       "    .dataframe tbody tr th {\n",
       "        vertical-align: top;\n",
       "    }\n",
       "\n",
       "    .dataframe thead th {\n",
       "        text-align: right;\n",
       "    }\n",
       "</style>\n",
       "<table border=\"1\" class=\"dataframe\">\n",
       "  <thead>\n",
       "    <tr style=\"text-align: right;\">\n",
       "      <th></th>\n",
       "      <th>repo</th>\n",
       "      <th>language</th>\n",
       "      <th>readme_contents</th>\n",
       "    </tr>\n",
       "  </thead>\n",
       "  <tbody>\n",
       "    <tr>\n",
       "      <th>1</th>\n",
       "      <td>onevcat/Kingfisher</td>\n",
       "      <td>Swift</td>\n",
       "      <td>&lt;p align=\"center\"&gt;\\n&lt;img src=\"https://raw.gith...</td>\n",
       "    </tr>\n",
       "    <tr>\n",
       "      <th>3</th>\n",
       "      <td>tailwindlabs/tailwindcss</td>\n",
       "      <td>JavaScript</td>\n",
       "      <td>&lt;p&gt;\\n    &lt;a href=\"https://tailwindcss.com/\" ta...</td>\n",
       "    </tr>\n",
       "    <tr>\n",
       "      <th>5</th>\n",
       "      <td>github/fetch</td>\n",
       "      <td>JavaScript</td>\n",
       "      <td># window.fetch polyfill\\n\\nThe `fetch()` funct...</td>\n",
       "    </tr>\n",
       "    <tr>\n",
       "      <th>7</th>\n",
       "      <td>ianstormtaylor/slate</td>\n",
       "      <td>TypeScript</td>\n",
       "      <td>&lt;p align=\"center\"&gt;\\n  &lt;a href=\"#\"&gt;&lt;img src=\"./...</td>\n",
       "    </tr>\n",
       "    <tr>\n",
       "      <th>8</th>\n",
       "      <td>Kong/insomnia</td>\n",
       "      <td>JavaScript</td>\n",
       "      <td># Insomnia REST Client\\n\\n[![Slack Channel](ht...</td>\n",
       "    </tr>\n",
       "    <tr>\n",
       "      <th>...</th>\n",
       "      <td>...</td>\n",
       "      <td>...</td>\n",
       "      <td>...</td>\n",
       "    </tr>\n",
       "    <tr>\n",
       "      <th>555</th>\n",
       "      <td>tornadoweb/tornado</td>\n",
       "      <td>Python</td>\n",
       "      <td>Tornado Web Server\\n==================\\n\\n.. i...</td>\n",
       "    </tr>\n",
       "    <tr>\n",
       "      <th>556</th>\n",
       "      <td>emscripten-core/emscripten</td>\n",
       "      <td>C</td>\n",
       "      <td>![emscripten logo](media/switch_logo.png)\\n\\nM...</td>\n",
       "    </tr>\n",
       "    <tr>\n",
       "      <th>557</th>\n",
       "      <td>gulpjs/gulp</td>\n",
       "      <td>JavaScript</td>\n",
       "      <td>&lt;p align=\"center\"&gt;\\n  &lt;a href=\"https://gulpjs....</td>\n",
       "    </tr>\n",
       "    <tr>\n",
       "      <th>558</th>\n",
       "      <td>alibaba/weex</td>\n",
       "      <td>C++</td>\n",
       "      <td># Weex\\n\\nA framework for building Mobile cros...</td>\n",
       "    </tr>\n",
       "    <tr>\n",
       "      <th>559</th>\n",
       "      <td>dmlc/xgboost</td>\n",
       "      <td>C++</td>\n",
       "      <td>&lt;img src=https://raw.githubusercontent.com/dml...</td>\n",
       "    </tr>\n",
       "  </tbody>\n",
       "</table>\n",
       "<p>506 rows × 3 columns</p>\n",
       "</div>"
      ],
      "text/plain": [
       "                           repo    language  \\\n",
       "1            onevcat/Kingfisher       Swift   \n",
       "3      tailwindlabs/tailwindcss  JavaScript   \n",
       "5                  github/fetch  JavaScript   \n",
       "7          ianstormtaylor/slate  TypeScript   \n",
       "8                 Kong/insomnia  JavaScript   \n",
       "..                          ...         ...   \n",
       "555          tornadoweb/tornado      Python   \n",
       "556  emscripten-core/emscripten           C   \n",
       "557                 gulpjs/gulp  JavaScript   \n",
       "558                alibaba/weex         C++   \n",
       "559                dmlc/xgboost         C++   \n",
       "\n",
       "                                       readme_contents  \n",
       "1    <p align=\"center\">\\n<img src=\"https://raw.gith...  \n",
       "3    <p>\\n    <a href=\"https://tailwindcss.com/\" ta...  \n",
       "5    # window.fetch polyfill\\n\\nThe `fetch()` funct...  \n",
       "7    <p align=\"center\">\\n  <a href=\"#\"><img src=\"./...  \n",
       "8    # Insomnia REST Client\\n\\n[![Slack Channel](ht...  \n",
       "..                                                 ...  \n",
       "555  Tornado Web Server\\n==================\\n\\n.. i...  \n",
       "556  ![emscripten logo](media/switch_logo.png)\\n\\nM...  \n",
       "557  <p align=\"center\">\\n  <a href=\"https://gulpjs....  \n",
       "558  # Weex\\n\\nA framework for building Mobile cros...  \n",
       "559  <img src=https://raw.githubusercontent.com/dml...  \n",
       "\n",
       "[506 rows x 3 columns]"
      ]
     },
     "execution_count": 73,
     "metadata": {},
     "output_type": "execute_result"
    }
   ],
   "source": [
    "data"
   ]
  },
  {
   "cell_type": "code",
   "execution_count": 110,
   "id": "fcbc2c17",
   "metadata": {},
   "outputs": [
    {
     "data": {
      "text/plain": [
       "'<p>\\n    <a href=\"https://tailwindcss.com/\" target=\"_blank\">\\n      <img alt=\"Tailwind CSS\" width=\"350\" src=\"https://refactoringui.nyc3.cdn.digitaloceanspaces.com/tailwind-logo-sticker.svg\">\\n    </a><br>\\n    A utility-first CSS framework for rapidly building custom user interfaces.\\n</p>\\n\\n<p>\\n    <a href=\"https://github.com/tailwindlabs/tailwindcss/actions\"><img src=\"https://img.shields.io/github/workflow/status/tailwindlabs/tailwindcss/Node.js%20CI\" alt=\"Build Status\"></a>\\n    <a href=\"https://www.npmjs.com/package/tailwindcss\"><img src=\"https://img.shields.io/npm/dt/tailwindcss.svg\" alt=\"Total Downloads\"></a>\\n    <a href=\"https://github.com/tailwindcss/tailwindcss/releases\"><img src=\"https://img.shields.io/npm/v/tailwindcss.svg\" alt=\"Latest Release\"></a>\\n    <a href=\"https://github.com/tailwindcss/tailwindcss/blob/master/LICENSE\"><img src=\"https://img.shields.io/npm/l/tailwindcss.svg\" alt=\"License\"></a>\\n</p>\\n\\n------\\n\\n## Documentation\\n\\nFor full documentation, visit [tailwindcss.com](https://tailwindcss.com/).\\n\\n## Community\\n\\nFor help, discussion about best practices, or any other conversation that would benefit from being searchable:\\n\\n[Discuss Tailwind CSS on GitHub](https://github.com/tailwindcss/tailwindcss/discussions)\\n\\nFor casual chit-chat with others using the framework:\\n\\n[Join the Tailwind CSS Discord Server](https://discord.gg/7NF8GNe)\\n\\n## Contributing\\n\\nIf you\\'re interested in contributing to Tailwind CSS, please read our [contributing docs](https://github.com/tailwindcss/tailwindcss/blob/master/.github/CONTRIBUTING.md) **before submitting a pull request**.\\n'"
      ]
     },
     "execution_count": 110,
     "metadata": {},
     "output_type": "execute_result"
    }
   ],
   "source": [
    "data.readme_contents[0]"
   ]
  },
  {
   "cell_type": "code",
   "execution_count": 104,
   "id": "70bb1192",
   "metadata": {},
   "outputs": [
    {
     "data": {
      "text/plain": [
       "2    <p align=\"center\">\\n  <a href=\"#\"><img src=\"./...\n",
       "Name: readme_contents, dtype: object"
      ]
     },
     "execution_count": 104,
     "metadata": {},
     "output_type": "execute_result"
    }
   ],
   "source": [
    "data.readme_contents[2:3]"
   ]
  },
  {
   "cell_type": "code",
   "execution_count": 76,
   "id": "aca124dd",
   "metadata": {},
   "outputs": [],
   "source": [
    "data= data[data['language'].map(data['language'].value_counts()) >= 30]"
   ]
  },
  {
   "cell_type": "code",
   "execution_count": 77,
   "id": "4ccf0df3",
   "metadata": {},
   "outputs": [],
   "source": [
    "data = data.reset_index()"
   ]
  },
  {
   "cell_type": "code",
   "execution_count": 95,
   "id": "cad6b9d6",
   "metadata": {},
   "outputs": [],
   "source": [
    "response = response.to_string()"
   ]
  },
  {
   "cell_type": "code",
   "execution_count": 98,
   "id": "5abc9b9b",
   "metadata": {},
   "outputs": [
    {
     "data": {
      "text/plain": [
       "'0    <p>\\\\n    <a href=\"https://tailwindcss.com/\" ta...'"
      ]
     },
     "execution_count": 98,
     "metadata": {},
     "output_type": "execute_result"
    }
   ],
   "source": [
    "response"
   ]
  },
  {
   "cell_type": "code",
   "execution_count": 97,
   "id": "90d65445",
   "metadata": {},
   "outputs": [],
   "source": [
    "soup = BeautifulSoup(response)"
   ]
  },
  {
   "cell_type": "code",
   "execution_count": 101,
   "id": "b79c4262",
   "metadata": {},
   "outputs": [
    {
     "data": {
      "text/plain": [
       "<html><body><p>0    </p><p>\\n    <a href=\"https://tailwindcss.com/\" ta...=\"\"></a></p></body></html>"
      ]
     },
     "execution_count": 101,
     "metadata": {},
     "output_type": "execute_result"
    }
   ],
   "source": [
    "soup"
   ]
  },
  {
   "cell_type": "code",
   "execution_count": 84,
   "id": "3571d731",
   "metadata": {},
   "outputs": [
    {
     "ename": "AttributeError",
     "evalue": "'Series' object has no attribute 'text'",
     "output_type": "error",
     "traceback": [
      "\u001b[0;31m---------------------------------------------------------------------------\u001b[0m",
      "\u001b[0;31mAttributeError\u001b[0m                            Traceback (most recent call last)",
      "\u001b[0;32m<ipython-input-84-cbc15b59a928>\u001b[0m in \u001b[0;36m<module>\u001b[0;34m\u001b[0m\n\u001b[1;32m      1\u001b[0m \u001b[0mresponse\u001b[0m \u001b[0;34m=\u001b[0m \u001b[0mdata\u001b[0m\u001b[0;34m[\u001b[0m\u001b[0;36m0\u001b[0m\u001b[0;34m:\u001b[0m\u001b[0;36m1\u001b[0m\u001b[0;34m]\u001b[0m\u001b[0;34m.\u001b[0m\u001b[0mreadme_contents\u001b[0m\u001b[0;34m\u001b[0m\u001b[0;34m\u001b[0m\u001b[0m\n\u001b[0;32m----> 2\u001b[0;31m \u001b[0msoup\u001b[0m \u001b[0;34m=\u001b[0m \u001b[0mBeautifulSoup\u001b[0m\u001b[0;34m(\u001b[0m\u001b[0mresponse\u001b[0m\u001b[0;34m.\u001b[0m\u001b[0mtext\u001b[0m\u001b[0;34m)\u001b[0m\u001b[0;34m\u001b[0m\u001b[0;34m\u001b[0m\u001b[0m\n\u001b[0m",
      "\u001b[0;32m/usr/local/anaconda3/lib/python3.8/site-packages/pandas/core/generic.py\u001b[0m in \u001b[0;36m__getattr__\u001b[0;34m(self, name)\u001b[0m\n\u001b[1;32m   5463\u001b[0m             \u001b[0;32mif\u001b[0m \u001b[0mself\u001b[0m\u001b[0;34m.\u001b[0m\u001b[0m_info_axis\u001b[0m\u001b[0;34m.\u001b[0m\u001b[0m_can_hold_identifiers_and_holds_name\u001b[0m\u001b[0;34m(\u001b[0m\u001b[0mname\u001b[0m\u001b[0;34m)\u001b[0m\u001b[0;34m:\u001b[0m\u001b[0;34m\u001b[0m\u001b[0;34m\u001b[0m\u001b[0m\n\u001b[1;32m   5464\u001b[0m                 \u001b[0;32mreturn\u001b[0m \u001b[0mself\u001b[0m\u001b[0;34m[\u001b[0m\u001b[0mname\u001b[0m\u001b[0;34m]\u001b[0m\u001b[0;34m\u001b[0m\u001b[0;34m\u001b[0m\u001b[0m\n\u001b[0;32m-> 5465\u001b[0;31m             \u001b[0;32mreturn\u001b[0m \u001b[0mobject\u001b[0m\u001b[0;34m.\u001b[0m\u001b[0m__getattribute__\u001b[0m\u001b[0;34m(\u001b[0m\u001b[0mself\u001b[0m\u001b[0;34m,\u001b[0m \u001b[0mname\u001b[0m\u001b[0;34m)\u001b[0m\u001b[0;34m\u001b[0m\u001b[0;34m\u001b[0m\u001b[0m\n\u001b[0m\u001b[1;32m   5466\u001b[0m \u001b[0;34m\u001b[0m\u001b[0m\n\u001b[1;32m   5467\u001b[0m     \u001b[0;32mdef\u001b[0m \u001b[0m__setattr__\u001b[0m\u001b[0;34m(\u001b[0m\u001b[0mself\u001b[0m\u001b[0;34m,\u001b[0m \u001b[0mname\u001b[0m\u001b[0;34m:\u001b[0m \u001b[0mstr\u001b[0m\u001b[0;34m,\u001b[0m \u001b[0mvalue\u001b[0m\u001b[0;34m)\u001b[0m \u001b[0;34m->\u001b[0m \u001b[0;32mNone\u001b[0m\u001b[0;34m:\u001b[0m\u001b[0;34m\u001b[0m\u001b[0;34m\u001b[0m\u001b[0m\n",
      "\u001b[0;31mAttributeError\u001b[0m: 'Series' object has no attribute 'text'"
     ]
    }
   ],
   "source": [
    "response = data[0:1].readme_contents\n",
    "soup = BeautifulSoup(response.text)"
   ]
  },
  {
   "cell_type": "code",
   "execution_count": 42,
   "id": "ae7a4122",
   "metadata": {},
   "outputs": [],
   "source": [
    "data = prep_readme_data(df= data, column = 'readme_contents', extra_words=['https','p','com','http','href'], exclude_words=[])"
   ]
  },
  {
   "cell_type": "code",
   "execution_count": 43,
   "id": "7f75a16a",
   "metadata": {},
   "outputs": [
    {
     "data": {
      "text/html": [
       "<div>\n",
       "<style scoped>\n",
       "    .dataframe tbody tr th:only-of-type {\n",
       "        vertical-align: middle;\n",
       "    }\n",
       "\n",
       "    .dataframe tbody tr th {\n",
       "        vertical-align: top;\n",
       "    }\n",
       "\n",
       "    .dataframe thead th {\n",
       "        text-align: right;\n",
       "    }\n",
       "</style>\n",
       "<table border=\"1\" class=\"dataframe\">\n",
       "  <thead>\n",
       "    <tr style=\"text-align: right;\">\n",
       "      <th></th>\n",
       "      <th>readme_contents</th>\n",
       "      <th>repo</th>\n",
       "      <th>language</th>\n",
       "      <th>clean</th>\n",
       "      <th>stemmed</th>\n",
       "      <th>lemmatized</th>\n",
       "    </tr>\n",
       "  </thead>\n",
       "  <tbody>\n",
       "    <tr>\n",
       "      <th>0</th>\n",
       "      <td>&lt;p&gt;\\n    &lt;a href=\"https://tailwindcss.com/\" ta...</td>\n",
       "      <td>tailwindlabs/tailwindcss</td>\n",
       "      <td>JavaScript</td>\n",
       "      <td>hrefhttpstailwindcsscom target_blank img altta...</td>\n",
       "      <td>hrefhttpstailwindcsscom target_blank img altta...</td>\n",
       "      <td>hrefhttpstailwindcsscom target_blank img altta...</td>\n",
       "    </tr>\n",
       "    <tr>\n",
       "      <th>1</th>\n",
       "      <td># window.fetch polyfill\\n\\nThe `fetch()` funct...</td>\n",
       "      <td>github/fetch</td>\n",
       "      <td>JavaScript</td>\n",
       "      <td>windowfetch polyfill fetch function promisebas...</td>\n",
       "      <td>windowfetch polyfil fetch function promisebas ...</td>\n",
       "      <td>windowfetch polyfill fetch function promisebas...</td>\n",
       "    </tr>\n",
       "    <tr>\n",
       "      <th>2</th>\n",
       "      <td>&lt;p align=\"center\"&gt;\\n  &lt;a href=\"#\"&gt;&lt;img src=\"./...</td>\n",
       "      <td>ianstormtaylor/slate</td>\n",
       "      <td>TypeScript</td>\n",
       "      <td>aligncenter hrefimg srcdocsimagesbannerpng ali...</td>\n",
       "      <td>aligncent hrefimg srcdocsimagesbannerpng align...</td>\n",
       "      <td>aligncenter hrefimg srcdocsimagesbannerpng ali...</td>\n",
       "    </tr>\n",
       "    <tr>\n",
       "      <th>3</th>\n",
       "      <td># Insomnia REST Client\\n\\n[![Slack Channel](ht...</td>\n",
       "      <td>Kong/insomnia</td>\n",
       "      <td>JavaScript</td>\n",
       "      <td>insomnia rest client slack channelhttpschatins...</td>\n",
       "      <td>insomnia rest client slack channelhttpschatins...</td>\n",
       "      <td>insomnia rest client slack channelhttpschatins...</td>\n",
       "    </tr>\n",
       "    <tr>\n",
       "      <th>4</th>\n",
       "      <td>![](https://user-images.githubusercontent.com/...</td>\n",
       "      <td>CymChad/BaseRecyclerViewAdapterHelper</td>\n",
       "      <td>Java</td>\n",
       "      <td>httpsuserimagesgithubusercontentcom76982093319...</td>\n",
       "      <td>httpsuserimagesgithubusercontentcom76982093319...</td>\n",
       "      <td>httpsuserimagesgithubusercontentcom76982093319...</td>\n",
       "    </tr>\n",
       "  </tbody>\n",
       "</table>\n",
       "</div>"
      ],
      "text/plain": [
       "                                     readme_contents  \\\n",
       "0  <p>\\n    <a href=\"https://tailwindcss.com/\" ta...   \n",
       "1  # window.fetch polyfill\\n\\nThe `fetch()` funct...   \n",
       "2  <p align=\"center\">\\n  <a href=\"#\"><img src=\"./...   \n",
       "3  # Insomnia REST Client\\n\\n[![Slack Channel](ht...   \n",
       "4  ![](https://user-images.githubusercontent.com/...   \n",
       "\n",
       "                                    repo    language  \\\n",
       "0               tailwindlabs/tailwindcss  JavaScript   \n",
       "1                           github/fetch  JavaScript   \n",
       "2                   ianstormtaylor/slate  TypeScript   \n",
       "3                          Kong/insomnia  JavaScript   \n",
       "4  CymChad/BaseRecyclerViewAdapterHelper        Java   \n",
       "\n",
       "                                               clean  \\\n",
       "0  hrefhttpstailwindcsscom target_blank img altta...   \n",
       "1  windowfetch polyfill fetch function promisebas...   \n",
       "2  aligncenter hrefimg srcdocsimagesbannerpng ali...   \n",
       "3  insomnia rest client slack channelhttpschatins...   \n",
       "4  httpsuserimagesgithubusercontentcom76982093319...   \n",
       "\n",
       "                                             stemmed  \\\n",
       "0  hrefhttpstailwindcsscom target_blank img altta...   \n",
       "1  windowfetch polyfil fetch function promisebas ...   \n",
       "2  aligncent hrefimg srcdocsimagesbannerpng align...   \n",
       "3  insomnia rest client slack channelhttpschatins...   \n",
       "4  httpsuserimagesgithubusercontentcom76982093319...   \n",
       "\n",
       "                                          lemmatized  \n",
       "0  hrefhttpstailwindcsscom target_blank img altta...  \n",
       "1  windowfetch polyfill fetch function promisebas...  \n",
       "2  aligncenter hrefimg srcdocsimagesbannerpng ali...  \n",
       "3  insomnia rest client slack channelhttpschatins...  \n",
       "4  httpsuserimagesgithubusercontentcom76982093319...  "
      ]
     },
     "execution_count": 43,
     "metadata": {},
     "output_type": "execute_result"
    }
   ],
   "source": [
    "data.head()"
   ]
  },
  {
   "cell_type": "code",
   "execution_count": 44,
   "id": "40724b6b",
   "metadata": {},
   "outputs": [],
   "source": [
    "data = data.drop(columns = ['readme_contents'])"
   ]
  },
  {
   "cell_type": "code",
   "execution_count": 50,
   "id": "7bbd13ad",
   "metadata": {},
   "outputs": [
    {
     "data": {
      "text/plain": [
       "JavaScript    141\n",
       "Python         59\n",
       "Java           46\n",
       "TypeScript     45\n",
       "Go             36\n",
       "C++            30\n",
       "Name: language, dtype: int64"
      ]
     },
     "execution_count": 50,
     "metadata": {},
     "output_type": "execute_result"
    }
   ],
   "source": [
    "data.language.value_counts()"
   ]
  },
  {
   "cell_type": "code",
   "execution_count": 51,
   "id": "7bbabea0",
   "metadata": {},
   "outputs": [],
   "source": [
    "js_df = data[data.language == 'JavaScript']\n",
    "python_df = data[data.language == 'Python']\n",
    "java_df = data[data.language == 'Java']\n",
    "ts_df = data[data.language == 'TypeScript']\n",
    "go_df = data[data.language == 'Go']\n",
    "c_df = data[data.language == 'C++']"
   ]
  },
  {
   "cell_type": "code",
   "execution_count": 58,
   "id": "ba52ee9d",
   "metadata": {},
   "outputs": [
    {
     "data": {
      "text/plain": [
       "'hrefhttpstailwindcsscom target_blank img alttailwind css width350 srchttpsrefactoringuinyc3cdndigitaloceanspacescomtailwindlogostickersvg abr utilityfirst css framework rapidly building custom user interfaces hrefhttpsgithubcomtailwindlabstailwindcssactionsimg srchttpsimgshieldsiogithubworkflowstatustailwindlabstailwindcssnodejs20ci altbuild statusa hrefhttpswwwnpmjscompackagetailwindcssimg srchttpsimgshieldsionpmdttailwindcsssvg alttotal downloadsa hrefhttpsgithubcomtailwindcsstailwindcssreleasesimg srchttpsimgshieldsionpmvtailwindcsssvg altlatest releasea hrefhttpsgithubcomtailwindcsstailwindcssblobmasterlicenseimg srchttpsimgshieldsionpmltailwindcsssvg altlicensea documentation full documentation visit tailwindcsscomhttpstailwindcsscom community help discussion best practices conversation would benefit searchable discuss tailwind css githubhttpsgithubcomtailwindcsstailwindcssdiscussions casual chitchat others using framework join tailwind css discord serverhttpsdiscordgg7nf8gne contributing youre interested contributing tailwind css please read contributing docshttpsgithubcomtailwindcsstailwindcssblobmastergithubcontributingmd submitting pull request'"
      ]
     },
     "execution_count": 58,
     "metadata": {},
     "output_type": "execute_result"
    }
   ],
   "source": [
    "js_df.clean[0]"
   ]
  },
  {
   "cell_type": "code",
   "execution_count": null,
   "id": "70d6f787",
   "metadata": {},
   "outputs": [],
   "source": []
  }
 ],
 "metadata": {
  "kernelspec": {
   "display_name": "Python 3",
   "language": "python",
   "name": "python3"
  },
  "language_info": {
   "codemirror_mode": {
    "name": "ipython",
    "version": 3
   },
   "file_extension": ".py",
   "mimetype": "text/x-python",
   "name": "python",
   "nbconvert_exporter": "python",
   "pygments_lexer": "ipython3",
   "version": "3.8.8"
  }
 },
 "nbformat": 4,
 "nbformat_minor": 5
}
